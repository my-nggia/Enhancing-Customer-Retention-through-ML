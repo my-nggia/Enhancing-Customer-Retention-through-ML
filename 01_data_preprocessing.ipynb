{
 "cells": [
  {
   "cell_type": "markdown",
   "id": "79e0f61f",
   "metadata": {},
   "source": [
    "**Enhancing Customer Retention through Machine Learning**: <br> Segmentation, Churn Prediction, and Product Recommendation – A Case Study on Flipkart Data.\n",
    "<br><br>\n",
    "Phase: **Data Preprocessing** <br>\n",
    "By: Gia-My Nguyen <br>\n",
    "Last updated (dd/mm/yyyy): 25/09/2025\n",
    "<br><br>\n",
    "\n",
    "**Completed:**\n",
    "- Dropped redundant ('unnamed') columns & NULLs in *total_weighted_landing_price*.\n",
    "- Identified \"0\" values in *procured_quantity*, *unit_selling_price*.\n",
    "- Remove records with procured_quantity = 0, keep only those > 0.\"\n",
    "- Checked consistency between category and category_id, handled the 'Syrups' case.\n",
    "- Supporting files for easier cross-referencing (Location: data/supporting).\n",
    "<br><br>\n",
    "\n",
    "**Tasks Remaining**\n",
    "- Handle \"0\" values in *unit_selling_price*\n",
    "- Standardize str columns (before modelling)\n",
    "- Create 'Revenue' \n",
    "\n"
   ]
  },
  {
   "cell_type": "code",
   "execution_count": 1,
   "id": "c56ef383",
   "metadata": {},
   "outputs": [],
   "source": [
    "import pandas as pd"
   ]
  },
  {
   "cell_type": "markdown",
   "id": "10efcfbd",
   "metadata": {},
   "source": [
    "# Functions"
   ]
  },
  {
   "cell_type": "code",
   "execution_count": 2,
   "id": "9efa15f7",
   "metadata": {},
   "outputs": [],
   "source": [
    "\"\"\"\n",
    "    Convert all specified ID columns to string type.\n",
    "    \n",
    "    Parameters:\n",
    "        df (pd.DataFrame): Input dataframe\n",
    "        id_columns (list, optional): List of ID columns to convert. \n",
    "                                     If None, will auto-detect columns ending with '_id'.\n",
    "    \n",
    "    Returns:\n",
    "        pd.DataFrame: Dataframe with converted ID columns\n",
    "\"\"\"\n",
    "    \n",
    "def convert_id_to_str(df, id_columns=None):\n",
    "    if id_columns is None:\n",
    "        id_columns = [col for col in df.columns if col.endswith(\"_id\") or col == 'dim_customer_key']\n",
    "    \n",
    "    for col in id_columns:\n",
    "        if col in df.columns:\n",
    "            df[col] = df[col].astype(str)\n",
    "    \n",
    "    return df\n"
   ]
  },
  {
   "cell_type": "code",
   "execution_count": 3,
   "id": "267af6ba",
   "metadata": {},
   "outputs": [],
   "source": [
    "\"\"\"\n",
    "    Create a mapping between 'category_id' and category_name'.  \n",
    "    If a category name has multiple IDs -> append the ID to the name.\n",
    "\"\"\"\n",
    "\n",
    "def build_mapping(df, id_col, name_col):\n",
    "    \n",
    "    # Category name with multiple IDs\n",
    "    dup_names = (\n",
    "        df.groupby(name_col)[id_col]\n",
    "        .nunique()\n",
    "        .reset_index()\n",
    "    )\n",
    "    dup_names = dup_names[dup_names[id_col] > 1][name_col].tolist()\n",
    "\n",
    "    # Handle duplicated names\n",
    "    def rename(row):\n",
    "        if row[name_col] in dup_names:\n",
    "            return f\"{row[name_col]} ({row[id_col]})\"\n",
    "        return row[name_col]\n",
    "\n",
    "    df[name_col] = df.apply(rename, axis=1)\n",
    "\n",
    "    # mapping data\n",
    "    mapping = (\n",
    "        df[[id_col, name_col]]\n",
    "        .drop_duplicates()\n",
    "        .reset_index(drop=True)\n",
    "    )\n",
    "    return mapping\n"
   ]
  },
  {
   "cell_type": "code",
   "execution_count": 46,
   "id": "6c80eb4d",
   "metadata": {},
   "outputs": [],
   "source": [
    "# def clean_double_quotes(df, col_name):\n",
    "#     \"\"\"\n",
    "#     Clean column:\n",
    "#     - Remove surrounding double quotes\n",
    "#     - Remove all extra quotes inside text\n",
    "#     - Strip leading/trailing spaces\n",
    "#     - Normalize multiple spaces into one\n",
    "#     \"\"\"\n",
    "#     df[col_name] = (\n",
    "#         df[col_name]\n",
    "#         .astype(str)                                  # đảm bảo dữ liệu là string\n",
    "#         .str.strip('\"')                               # bỏ \" ở đầu và cuối\n",
    "#         # .str.replace('\"', '', regex=False)            # bỏ \" còn sót bên trong\n",
    "#         .str.strip()                                  # bỏ khoảng trắng đầu/cuối\n",
    "#         .str.replace(r'\\s+', ' ', regex=True)         # chuẩn hóa khoảng trắng\n",
    "#     )\n",
    "#     return df\n"
   ]
  },
  {
   "cell_type": "markdown",
   "id": "b6f2aaff",
   "metadata": {},
   "source": [
    "# Sales"
   ]
  },
  {
   "cell_type": "code",
   "execution_count": 19,
   "id": "45e3629e",
   "metadata": {},
   "outputs": [],
   "source": [
    "# read file\n",
    "\n",
    "df_sales = pd.read_csv('data/raw/Sales.csv')"
   ]
  },
  {
   "cell_type": "code",
   "execution_count": 20,
   "id": "16bf2c00",
   "metadata": {},
   "outputs": [
    {
     "name": "stdout",
     "output_type": "stream",
     "text": [
      "<class 'pandas.core.frame.DataFrame'>\n",
      "RangeIndex: 46706387 entries, 0 to 46706386\n",
      "Data columns (total 13 columns):\n",
      " #   Column                        Dtype  \n",
      "---  ------                        -----  \n",
      " 0   Unnamed: 0.2                  int64  \n",
      " 1   Unnamed: 0.1                  int64  \n",
      " 2   Unnamed: 0                    int64  \n",
      " 3   date_                         object \n",
      " 4   city_name                     object \n",
      " 5   order_id                      int64  \n",
      " 6   cart_id                       int64  \n",
      " 7   dim_customer_key              int64  \n",
      " 8   procured_quantity             int64  \n",
      " 9   unit_selling_price            float64\n",
      " 10  total_discount_amount         float64\n",
      " 11  product_id                    int64  \n",
      " 12  total_weighted_landing_price  float64\n",
      "dtypes: float64(3), int64(8), object(2)\n",
      "memory usage: 4.5+ GB\n"
     ]
    }
   ],
   "source": [
    "# Basic information\n",
    "\n",
    "df_sales.info()"
   ]
  },
  {
   "cell_type": "code",
   "execution_count": 21,
   "id": "b5bafdf6",
   "metadata": {},
   "outputs": [],
   "source": [
    "# Drop \"Unnamed\" columns\n",
    "\n",
    "cols_to_drop = [col for col in df_sales.columns if 'Unnamed' in col]\n",
    "df_sales = df_sales.drop(columns=cols_to_drop)"
   ]
  },
  {
   "cell_type": "code",
   "execution_count": 7,
   "id": "b5dbc9b3",
   "metadata": {},
   "outputs": [
    {
     "data": {
      "text/plain": [
       "date_                               0\n",
       "city_name                           0\n",
       "order_id                            0\n",
       "cart_id                             0\n",
       "dim_customer_key                    0\n",
       "procured_quantity                   0\n",
       "unit_selling_price                  0\n",
       "total_discount_amount               0\n",
       "product_id                          0\n",
       "total_weighted_landing_price    79355\n",
       "dtype: int64"
      ]
     },
     "execution_count": 7,
     "metadata": {},
     "output_type": "execute_result"
    }
   ],
   "source": [
    "# Check missing values\n",
    "\n",
    "df_sales.isna().sum()"
   ]
  },
  {
   "cell_type": "markdown",
   "id": "8423f60c",
   "metadata": {},
   "source": [
    "## Problem 01: <br> **79,355 missing values in \"Total Weighted Landing Price\"**\n",
    "\n",
    "File: sales_missing_values.csv\n",
    "\n",
    "**Proposal**\n",
    "\n",
    "- Remove all these records from the master data"
   ]
  },
  {
   "cell_type": "code",
   "execution_count": null,
   "id": "73724fd9",
   "metadata": {},
   "outputs": [],
   "source": [
    "# sales_missing_values.csv\n",
    "\n",
    "# sales_missing_values = df_sales[df_sales['total_weighted_landing_price'].isnull()]\n",
    "# print(sales_missing_values.shape[0])\n",
    "\n",
    "# sales_missing_values.to_csv('data/anomalies/sales_missing_values.csv')"
   ]
  },
  {
   "cell_type": "code",
   "execution_count": 22,
   "id": "12603474",
   "metadata": {},
   "outputs": [
    {
     "name": "stdout",
     "output_type": "stream",
     "text": [
      "Count after dropping NULL in total_weighted_landing_price: 46627032\n"
     ]
    }
   ],
   "source": [
    "# Drop all records where total_weighted_landing_price is NULL\n",
    "\n",
    "df_sales_cleaned = df_sales.dropna(subset=['total_weighted_landing_price'])\n",
    "print(\"Count after dropping NULL in total_weighted_landing_price:\", len(df_sales_cleaned))"
   ]
  },
  {
   "cell_type": "code",
   "execution_count": 9,
   "id": "3fdac206",
   "metadata": {},
   "outputs": [
    {
     "data": {
      "text/plain": [
       "date_                           0\n",
       "city_name                       0\n",
       "order_id                        0\n",
       "cart_id                         0\n",
       "dim_customer_key                0\n",
       "procured_quantity               0\n",
       "unit_selling_price              0\n",
       "total_discount_amount           0\n",
       "product_id                      0\n",
       "total_weighted_landing_price    0\n",
       "dtype: int64"
      ]
     },
     "execution_count": 9,
     "metadata": {},
     "output_type": "execute_result"
    }
   ],
   "source": [
    "# Check NULL values again\n",
    "\n",
    "df_sales_cleaned.isna().sum()"
   ]
  },
  {
   "cell_type": "code",
   "execution_count": 10,
   "id": "beb89280",
   "metadata": {},
   "outputs": [
    {
     "name": "stdout",
     "output_type": "stream",
     "text": [
      "Column: procured_quantity\n",
      "  Records = 0: 178908\n",
      "  Records < 0: 0\n",
      "\n",
      "Column: unit_selling_price\n",
      "  Records = 0: 48269\n",
      "  Records < 0: 0\n",
      "\n"
     ]
    }
   ],
   "source": [
    "# Check abnormal data in 'procured_quantity' & 'unit_selling_price'\n",
    "\n",
    "cols_to_check = ['procured_quantity', 'unit_selling_price']\n",
    "\n",
    "for col in cols_to_check:\n",
    "    zero_count = (df_sales_cleaned[col] == 0).sum()\n",
    "    negative_count = (df_sales_cleaned[col] < 0).sum()\n",
    "    \n",
    "    print(f\"Column: {col}\")\n",
    "    print(f\"  Records = 0: {zero_count}\")\n",
    "    print(f\"  Records < 0: {negative_count}\\n\")\n"
   ]
  },
  {
   "cell_type": "markdown",
   "id": "c6159a63",
   "metadata": {},
   "source": [
    "## Problem 02: <br> **178,908 records with procured_quantity = 0**\n",
    "File: sales_zero_quantity.csv <br> <br>\n",
    "No products were purchased -> Invalid transactions <br>\n",
    "Possible reason: system error\n",
    "\n",
    "**Proposal**: drop"
   ]
  },
  {
   "cell_type": "code",
   "execution_count": null,
   "id": "348f6558",
   "metadata": {},
   "outputs": [],
   "source": [
    "# sales_zero_quantity.csv\n",
    "\n",
    "# sales_zero_quantity = df_sales_cleaned[df_sales_cleaned['procured_quantity'] == 0]\n",
    "# sales_zero_quantity.to_csv('data/anomalies/sales_zero_quantity.csv')"
   ]
  },
  {
   "cell_type": "code",
   "execution_count": 23,
   "id": "df04d9a3",
   "metadata": {},
   "outputs": [
    {
     "name": "stdout",
     "output_type": "stream",
     "text": [
      "Records w. 'procured_quantity=0':  0\n"
     ]
    }
   ],
   "source": [
    "# Only get records with procured_quantity > 0\n",
    "\n",
    "df_sales_cleaned = df_sales_cleaned[df_sales_cleaned['procured_quantity'] > 0]\n",
    "\n",
    "# check agian\n",
    "print(\"Records w. 'procured_quantity=0': \",df_sales_cleaned[df_sales_cleaned['procured_quantity'] == 0].shape[0])"
   ]
  },
  {
   "cell_type": "markdown",
   "id": "920cccd8",
   "metadata": {},
   "source": [
    "## Problem 03: <br> **48,269 records with unit_selling_price = 0**\n",
    "File: sales_zero_unit_price.csv<br> <br>\n",
    "Products sold at zero price <br>\n",
    "Possible reasons:\n",
    "- Sample products / free gifts / special promotions\n",
    "- Error in recording selling price\n",
    "\n",
    "**Proposal**: add flag *is_free_product*"
   ]
  },
  {
   "cell_type": "code",
   "execution_count": null,
   "id": "d7205c15",
   "metadata": {},
   "outputs": [],
   "source": [
    "# sales_zero_unit_price.csv\n",
    "\n",
    "# sales_zero_unit_price = df_sales_cleaned[df_sales_cleaned['unit_selling_price'] == 0]\n",
    "# sales_zero_unit_price.to_csv('data/anomalies/sales_zero_unit_price.csv')"
   ]
  },
  {
   "cell_type": "code",
   "execution_count": 24,
   "id": "0074270e",
   "metadata": {},
   "outputs": [],
   "source": [
    "# Rename the date column and convert to datetime objects\n",
    "\n",
    "df_sales_cleaned.rename(columns={'date_': 'date'}, inplace=True)\n",
    "df_sales_cleaned['date'] = pd.to_datetime(df_sales_cleaned['date'])"
   ]
  },
  {
   "cell_type": "code",
   "execution_count": 25,
   "id": "b6e1ce74",
   "metadata": {},
   "outputs": [],
   "source": [
    "# Convert ids to str\n",
    "\n",
    "df_sales_cleaned = convert_id_to_str(df_sales_cleaned)"
   ]
  },
  {
   "cell_type": "code",
   "execution_count": 14,
   "id": "34f00467",
   "metadata": {},
   "outputs": [
    {
     "name": "stdout",
     "output_type": "stream",
     "text": [
      "<class 'pandas.core.frame.DataFrame'>\n",
      "Index: 46448124 entries, 0 to 46706386\n",
      "Data columns (total 10 columns):\n",
      " #   Column                        Dtype         \n",
      "---  ------                        -----         \n",
      " 0   date                          datetime64[ns]\n",
      " 1   city_name                     object        \n",
      " 2   order_id                      object        \n",
      " 3   cart_id                       object        \n",
      " 4   dim_customer_key              object        \n",
      " 5   procured_quantity             int64         \n",
      " 6   unit_selling_price            float64       \n",
      " 7   total_discount_amount         float64       \n",
      " 8   product_id                    object        \n",
      " 9   total_weighted_landing_price  float64       \n",
      "dtypes: datetime64[ns](1), float64(3), int64(1), object(5)\n",
      "memory usage: 3.8+ GB\n"
     ]
    }
   ],
   "source": [
    "df_sales_cleaned.info()"
   ]
  },
  {
   "cell_type": "code",
   "execution_count": 15,
   "id": "d4c916ae",
   "metadata": {},
   "outputs": [
    {
     "data": {
      "text/html": [
       "<div>\n",
       "<style scoped>\n",
       "    .dataframe tbody tr th:only-of-type {\n",
       "        vertical-align: middle;\n",
       "    }\n",
       "\n",
       "    .dataframe tbody tr th {\n",
       "        vertical-align: top;\n",
       "    }\n",
       "\n",
       "    .dataframe thead th {\n",
       "        text-align: right;\n",
       "    }\n",
       "</style>\n",
       "<table border=\"1\" class=\"dataframe\">\n",
       "  <thead>\n",
       "    <tr style=\"text-align: right;\">\n",
       "      <th></th>\n",
       "      <th>date</th>\n",
       "      <th>city_name</th>\n",
       "      <th>order_id</th>\n",
       "      <th>cart_id</th>\n",
       "      <th>dim_customer_key</th>\n",
       "      <th>procured_quantity</th>\n",
       "      <th>unit_selling_price</th>\n",
       "      <th>total_discount_amount</th>\n",
       "      <th>product_id</th>\n",
       "      <th>total_weighted_landing_price</th>\n",
       "    </tr>\n",
       "  </thead>\n",
       "  <tbody>\n",
       "    <tr>\n",
       "      <th>0</th>\n",
       "      <td>2022-04-01</td>\n",
       "      <td>Mumbai</td>\n",
       "      <td>112246974</td>\n",
       "      <td>173273802</td>\n",
       "      <td>17995199</td>\n",
       "      <td>1</td>\n",
       "      <td>234.0</td>\n",
       "      <td>0.0</td>\n",
       "      <td>344107</td>\n",
       "      <td>202.513030</td>\n",
       "    </tr>\n",
       "    <tr>\n",
       "      <th>1</th>\n",
       "      <td>2022-04-01</td>\n",
       "      <td>Bengaluru</td>\n",
       "      <td>112246976</td>\n",
       "      <td>173273597</td>\n",
       "      <td>18259433</td>\n",
       "      <td>1</td>\n",
       "      <td>64.0</td>\n",
       "      <td>0.0</td>\n",
       "      <td>389676</td>\n",
       "      <td>48.714375</td>\n",
       "    </tr>\n",
       "    <tr>\n",
       "      <th>2</th>\n",
       "      <td>2022-04-01</td>\n",
       "      <td>Bengaluru</td>\n",
       "      <td>112247019</td>\n",
       "      <td>173123717</td>\n",
       "      <td>5402601</td>\n",
       "      <td>1</td>\n",
       "      <td>1031.0</td>\n",
       "      <td>0.0</td>\n",
       "      <td>39411</td>\n",
       "      <td>975.996000</td>\n",
       "    </tr>\n",
       "    <tr>\n",
       "      <th>3</th>\n",
       "      <td>2022-04-01</td>\n",
       "      <td>HR-NCR</td>\n",
       "      <td>112247045</td>\n",
       "      <td>172547459</td>\n",
       "      <td>15649744</td>\n",
       "      <td>1</td>\n",
       "      <td>57.0</td>\n",
       "      <td>0.0</td>\n",
       "      <td>369742</td>\n",
       "      <td>25.000000</td>\n",
       "    </tr>\n",
       "    <tr>\n",
       "      <th>4</th>\n",
       "      <td>2022-04-01</td>\n",
       "      <td>Mumbai</td>\n",
       "      <td>112247123</td>\n",
       "      <td>173081820</td>\n",
       "      <td>10127605</td>\n",
       "      <td>2</td>\n",
       "      <td>30.0</td>\n",
       "      <td>0.0</td>\n",
       "      <td>12872</td>\n",
       "      <td>57.980004</td>\n",
       "    </tr>\n",
       "  </tbody>\n",
       "</table>\n",
       "</div>"
      ],
      "text/plain": [
       "        date  city_name   order_id    cart_id dim_customer_key  \\\n",
       "0 2022-04-01     Mumbai  112246974  173273802         17995199   \n",
       "1 2022-04-01  Bengaluru  112246976  173273597         18259433   \n",
       "2 2022-04-01  Bengaluru  112247019  173123717          5402601   \n",
       "3 2022-04-01     HR-NCR  112247045  172547459         15649744   \n",
       "4 2022-04-01     Mumbai  112247123  173081820         10127605   \n",
       "\n",
       "   procured_quantity  unit_selling_price  total_discount_amount product_id  \\\n",
       "0                  1               234.0                    0.0     344107   \n",
       "1                  1                64.0                    0.0     389676   \n",
       "2                  1              1031.0                    0.0      39411   \n",
       "3                  1                57.0                    0.0     369742   \n",
       "4                  2                30.0                    0.0      12872   \n",
       "\n",
       "   total_weighted_landing_price  \n",
       "0                    202.513030  \n",
       "1                     48.714375  \n",
       "2                    975.996000  \n",
       "3                     25.000000  \n",
       "4                     57.980004  "
      ]
     },
     "execution_count": 15,
     "metadata": {},
     "output_type": "execute_result"
    }
   ],
   "source": [
    "df_sales_cleaned.head(5)"
   ]
  },
  {
   "cell_type": "markdown",
   "id": "fcb24e17",
   "metadata": {},
   "source": [
    "# Products"
   ]
  },
  {
   "cell_type": "code",
   "execution_count": 4,
   "id": "1a4b2b65",
   "metadata": {},
   "outputs": [],
   "source": [
    "# Get products data\n",
    "\n",
    "df_products = pd.read_csv('data/raw/products.csv')"
   ]
  },
  {
   "cell_type": "code",
   "execution_count": 5,
   "id": "b604c359",
   "metadata": {},
   "outputs": [
    {
     "name": "stdout",
     "output_type": "stream",
     "text": [
      "<class 'pandas.core.frame.DataFrame'>\n",
      "RangeIndex: 32226 entries, 0 to 32225\n",
      "Data columns (total 13 columns):\n",
      " #   Column             Non-Null Count  Dtype \n",
      "---  ------             --------------  ----- \n",
      " 0   Unnamed: 0         32226 non-null  int64 \n",
      " 1   product_id         32226 non-null  int64 \n",
      " 2   product_name       32226 non-null  object\n",
      " 3   unit               32226 non-null  object\n",
      " 4   product_type       32226 non-null  object\n",
      " 5   brand_name         30788 non-null  object\n",
      " 6   manufacturer_name  29810 non-null  object\n",
      " 7   l0_category        32226 non-null  object\n",
      " 8   l1_category        32226 non-null  object\n",
      " 9   l2_category        32226 non-null  object\n",
      " 10  l0_category_id     32226 non-null  int64 \n",
      " 11  l1_category_id     32226 non-null  int64 \n",
      " 12  l2_category_id     32226 non-null  int64 \n",
      "dtypes: int64(5), object(8)\n",
      "memory usage: 3.2+ MB\n"
     ]
    }
   ],
   "source": [
    "# Basic information\n",
    "\n",
    "df_products.info()"
   ]
  },
  {
   "cell_type": "code",
   "execution_count": 6,
   "id": "a7eba95a",
   "metadata": {},
   "outputs": [],
   "source": [
    "# Drop \"Unnamed\" columns\n",
    "\n",
    "cols_to_drop = [col for col in df_products.columns if 'Unnamed' in col]\n",
    "df_products = df_products.drop(columns=cols_to_drop)\n"
   ]
  },
  {
   "cell_type": "code",
   "execution_count": 7,
   "id": "2429816a",
   "metadata": {},
   "outputs": [
    {
     "data": {
      "text/plain": [
       "product_id              0\n",
       "product_name            0\n",
       "unit                    0\n",
       "product_type            0\n",
       "brand_name           1438\n",
       "manufacturer_name    2416\n",
       "l0_category             0\n",
       "l1_category             0\n",
       "l2_category             0\n",
       "l0_category_id          0\n",
       "l1_category_id          0\n",
       "l2_category_id          0\n",
       "dtype: int64"
      ]
     },
     "execution_count": 7,
     "metadata": {},
     "output_type": "execute_result"
    }
   ],
   "source": [
    "# Missing values\n",
    "\n",
    "df_products.isnull().sum()"
   ]
  },
  {
   "cell_type": "markdown",
   "id": "4494cc5f",
   "metadata": {},
   "source": [
    "## Problem 04: <br> **Missing values in 'brand_name' & 'manufacturer_name'**\n",
    "1. 'brand_name'         : 1,438 missing values\n",
    "2. 'manufacturer_name'  : 2,416 missing values   \n",
    "\n",
    "**Proposal:**\n",
    "- Customer Segmentation and Churn Prediction -> No Problem!  \n",
    "- Product Recommendation: assign 'Unknown'  "
   ]
  },
  {
   "cell_type": "code",
   "execution_count": 8,
   "id": "366c1ac8",
   "metadata": {},
   "outputs": [],
   "source": [
    "# Fill missing values with 'Unknown'\n",
    "\n",
    "df_products['brand_name'] = df_products['brand_name'].fillna(\"Unknown\")\n",
    "df_products['manufacturer_name'] = df_products['manufacturer_name'].fillna(\"Unknown\")"
   ]
  },
  {
   "cell_type": "code",
   "execution_count": 9,
   "id": "3ad628d4",
   "metadata": {},
   "outputs": [
    {
     "name": "stdout",
     "output_type": "stream",
     "text": [
      "Duplicated product_id: 0\n",
      "Total duplicated values: 0\n"
     ]
    }
   ],
   "source": [
    "# Check the number of duplicate product_id values\n",
    "\n",
    "duplicate_products = df_products[df_products.duplicated(subset=['product_id'], keep=False)]\n",
    "\n",
    "print(\"Duplicated product_id:\", duplicate_products['product_id'].nunique())\n",
    "print(\"Total duplicated values:\", len(duplicate_products))"
   ]
  },
  {
   "cell_type": "code",
   "execution_count": 10,
   "id": "eb7c1305",
   "metadata": {},
   "outputs": [
    {
     "name": "stdout",
     "output_type": "stream",
     "text": [
      "Count: 0\n"
     ]
    }
   ],
   "source": [
    "# Check product_name contains numeric-only values\n",
    "\n",
    "mask = df_products[\"product_name\"].astype(str).str.isnumeric()\n",
    "numeric_names = df_products[mask]\n",
    "\n",
    "print(f\"Count: {numeric_names.shape[0]}\")"
   ]
  },
  {
   "cell_type": "code",
   "execution_count": 11,
   "id": "98d9fdac",
   "metadata": {},
   "outputs": [],
   "source": [
    "# Convert ids to str\n",
    "\n",
    "df_products = convert_id_to_str(df_products)"
   ]
  },
  {
   "cell_type": "code",
   "execution_count": 12,
   "id": "edc3ddde",
   "metadata": {},
   "outputs": [
    {
     "name": "stdout",
     "output_type": "stream",
     "text": [
      "<class 'pandas.core.frame.DataFrame'>\n",
      "RangeIndex: 32226 entries, 0 to 32225\n",
      "Data columns (total 12 columns):\n",
      " #   Column             Non-Null Count  Dtype \n",
      "---  ------             --------------  ----- \n",
      " 0   product_id         32226 non-null  object\n",
      " 1   product_name       32226 non-null  object\n",
      " 2   unit               32226 non-null  object\n",
      " 3   product_type       32226 non-null  object\n",
      " 4   brand_name         32226 non-null  object\n",
      " 5   manufacturer_name  32226 non-null  object\n",
      " 6   l0_category        32226 non-null  object\n",
      " 7   l1_category        32226 non-null  object\n",
      " 8   l2_category        32226 non-null  object\n",
      " 9   l0_category_id     32226 non-null  object\n",
      " 10  l1_category_id     32226 non-null  object\n",
      " 11  l2_category_id     32226 non-null  object\n",
      "dtypes: object(12)\n",
      "memory usage: 3.0+ MB\n"
     ]
    }
   ],
   "source": [
    "df_products.info()"
   ]
  },
  {
   "cell_type": "markdown",
   "id": "1383cabb",
   "metadata": {},
   "source": [
    "***Consistency check between category IDs and category names*** <br>\n",
    "3 levels: l0, l1, l2\n",
    "\n",
    "**What it does:**\n",
    "1. Check if each category ID maps to only one category name.\n",
    "2. Check if each category name maps to only one category ID."
   ]
  },
  {
   "cell_type": "code",
   "execution_count": 13,
   "id": "2b80c121",
   "metadata": {},
   "outputs": [
    {
     "name": "stdout",
     "output_type": "stream",
     "text": [
      "--- L0 ---\n",
      "[OK]: ID -> only 1 category_name\n",
      "[OK]: category_name → only 1 ID\n",
      "\n",
      "--- L1 ---\n",
      "[OK]: ID -> only 1 category_name\n",
      "[OK]: category_name → only 1 ID\n",
      "\n",
      "--- L2 ---\n",
      "[OK]: ID -> only 1 category_name\n",
      "[Inconsistent]: category_name → multiple IDs:\n",
      "l2_category\n",
      "Syrups    2\n",
      "Name: l2_category_id, dtype: int64\n"
     ]
    }
   ],
   "source": [
    "# Consistency check between category IDs and category names\n",
    "\n",
    "# Cross-check consistency between *_category_id and *_category\n",
    "for level in [\"l0\", \"l1\", \"l2\"]:\n",
    "    check = df_products.groupby(f\"{level}_category_id\")[f\"{level}_category\"].nunique()\n",
    "    inconsistent_ids = check[check > 1]\n",
    "    \n",
    "    print(f\"--- {level.upper()} ---\")\n",
    "    if inconsistent_ids.empty:\n",
    "        print(\"[OK]: ID -> only 1 category_name\")\n",
    "    else:\n",
    "        print(\"[Inconsistent]: ID → multiple category_names:\")\n",
    "        print(inconsistent_ids)\n",
    "\n",
    "    check_name = df_products.groupby(f\"{level}_category\")[f\"{level}_category_id\"].nunique()\n",
    "    inconsistent_names = check_name[check_name > 1]\n",
    "\n",
    "    if inconsistent_names.empty:\n",
    "        print(\"[OK]: category_name → only 1 ID\\n\")\n",
    "    else:\n",
    "        print(\"[Inconsistent]: category_name → multiple IDs:\")\n",
    "        print(inconsistent_names)\n"
   ]
  },
  {
   "cell_type": "markdown",
   "id": "5899b745",
   "metadata": {},
   "source": [
    "**The above output shows:**\n",
    "- L0 and L1 are fully consistent.\n",
    "- L2 has a problem: \"Syrups\" is mapped to 2 different IDs."
   ]
  },
  {
   "cell_type": "code",
   "execution_count": 14,
   "id": "9b936dbb",
   "metadata": {},
   "outputs": [
    {
     "name": "stdout",
     "output_type": "stream",
     "text": [
      "  l2_category l2_category_id  count_products\n",
      "0      Syrups           1136              43\n",
      "1      Syrups           1289              31\n"
     ]
    }
   ],
   "source": [
    "# Filtered Syrups-only\n",
    "\n",
    "syrups_detail = (\n",
    "    df_products[df_products[\"l2_category\"] == \"Syrups\"]\n",
    "    .groupby([\"l2_category\", \"l2_category_id\"])[\"product_id\"]\n",
    "    .count()\n",
    "    .reset_index()\n",
    "    .rename(columns={\"product_id\": \"count_products\"})\n",
    ")\n",
    "\n",
    "print(syrups_detail)\n"
   ]
  },
  {
   "cell_type": "markdown",
   "id": "33bd98ad",
   "metadata": {},
   "source": [
    "## Problem 05: <br> **Duplicate category name with multiple IDs in L2**\n",
    "Issue: The l2_category \"Syrups\" is linked to two different l2_category_id values <br>\n",
    "-> category ID - name inconsistency. \n",
    "\n",
    "**Proposal:**\n",
    "- l2_category_id = 1136 -> \"Syrups (1136)\"\n",
    "- l2_category_id = 1289 -> \"Syrups (1289)\"\n"
   ]
  },
  {
   "cell_type": "code",
   "execution_count": 15,
   "id": "be8bbcf4",
   "metadata": {},
   "outputs": [],
   "source": [
    "# export to csv\n",
    "\n",
    "df_products_cleaned = df_products.copy()\n",
    "\n",
    "l0_mapping = build_mapping(df_products_cleaned, \"l0_category_id\", \"l0_category\")\n",
    "l1_mapping = build_mapping(df_products_cleaned, \"l1_category_id\", \"l1_category\")\n",
    "l2_mapping = build_mapping(df_products_cleaned, \"l2_category_id\", \"l2_category\")\n",
    "\n",
    "# l0_mapping.to_csv(\"data/supporting/l0_category.csv\", index=False)\n",
    "# l1_mapping.to_csv(\"data/supporting/l1_category.csv\", index=False)\n",
    "# l2_mapping.to_csv(\"data/supporting/l2_category.csv\", index=False)"
   ]
  },
  {
   "cell_type": "code",
   "execution_count": 16,
   "id": "923dd2e6",
   "metadata": {},
   "outputs": [
    {
     "data": {
      "text/html": [
       "<div>\n",
       "<style scoped>\n",
       "    .dataframe tbody tr th:only-of-type {\n",
       "        vertical-align: middle;\n",
       "    }\n",
       "\n",
       "    .dataframe tbody tr th {\n",
       "        vertical-align: top;\n",
       "    }\n",
       "\n",
       "    .dataframe thead th {\n",
       "        text-align: right;\n",
       "    }\n",
       "</style>\n",
       "<table border=\"1\" class=\"dataframe\">\n",
       "  <thead>\n",
       "    <tr style=\"text-align: right;\">\n",
       "      <th></th>\n",
       "      <th>product_id</th>\n",
       "      <th>product_name</th>\n",
       "      <th>unit</th>\n",
       "      <th>product_type</th>\n",
       "      <th>brand_name</th>\n",
       "      <th>manufacturer_name</th>\n",
       "      <th>l0_category</th>\n",
       "      <th>l1_category</th>\n",
       "      <th>l2_category</th>\n",
       "      <th>l0_category_id</th>\n",
       "      <th>l1_category_id</th>\n",
       "      <th>l2_category_id</th>\n",
       "    </tr>\n",
       "  </thead>\n",
       "  <tbody>\n",
       "    <tr>\n",
       "      <th>30623</th>\n",
       "      <td>487147</td>\n",
       "      <td>Hershey's Genuine Chocolate Syrup - Pack of 2</td>\n",
       "      <td>2 x 1.3 kg</td>\n",
       "      <td>Syrup</td>\n",
       "      <td>Hershey's</td>\n",
       "      <td>HERSHEY INDIA PRIVATE LIMITED</td>\n",
       "      <td>Sweet Tooth</td>\n",
       "      <td>Syrups</td>\n",
       "      <td>Syrups (1289)</td>\n",
       "      <td>9</td>\n",
       "      <td>1289</td>\n",
       "      <td>1289</td>\n",
       "    </tr>\n",
       "    <tr>\n",
       "      <th>30624</th>\n",
       "      <td>490896</td>\n",
       "      <td>Del Monte Chocolate Flavoured Syrup</td>\n",
       "      <td>600 g</td>\n",
       "      <td>Syrup</td>\n",
       "      <td>Del Monte</td>\n",
       "      <td>Del Monte Foods Pvt. Ltd</td>\n",
       "      <td>Sweet Tooth</td>\n",
       "      <td>Syrups</td>\n",
       "      <td>Syrups (1289)</td>\n",
       "      <td>9</td>\n",
       "      <td>1289</td>\n",
       "      <td>1289</td>\n",
       "    </tr>\n",
       "    <tr>\n",
       "      <th>30640</th>\n",
       "      <td>479638</td>\n",
       "      <td>Hershey's Shell Chocolate Syrup</td>\n",
       "      <td>205 g</td>\n",
       "      <td>Syrup</td>\n",
       "      <td>Hershey's</td>\n",
       "      <td>HERSHEY INDIA PRIVATE LIMITED</td>\n",
       "      <td>Sweet Tooth</td>\n",
       "      <td>Syrups</td>\n",
       "      <td>Syrups (1289)</td>\n",
       "      <td>9</td>\n",
       "      <td>1289</td>\n",
       "      <td>1289</td>\n",
       "    </tr>\n",
       "  </tbody>\n",
       "</table>\n",
       "</div>"
      ],
      "text/plain": [
       "      product_id                                   product_name        unit  \\\n",
       "30623     487147  Hershey's Genuine Chocolate Syrup - Pack of 2  2 x 1.3 kg   \n",
       "30624     490896            Del Monte Chocolate Flavoured Syrup       600 g   \n",
       "30640     479638                Hershey's Shell Chocolate Syrup       205 g   \n",
       "\n",
       "      product_type brand_name              manufacturer_name  l0_category  \\\n",
       "30623        Syrup  Hershey's  HERSHEY INDIA PRIVATE LIMITED  Sweet Tooth   \n",
       "30624        Syrup  Del Monte       Del Monte Foods Pvt. Ltd  Sweet Tooth   \n",
       "30640        Syrup  Hershey's  HERSHEY INDIA PRIVATE LIMITED  Sweet Tooth   \n",
       "\n",
       "      l1_category    l2_category l0_category_id l1_category_id l2_category_id  \n",
       "30623      Syrups  Syrups (1289)              9           1289           1289  \n",
       "30624      Syrups  Syrups (1289)              9           1289           1289  \n",
       "30640      Syrups  Syrups (1289)              9           1289           1289  "
      ]
     },
     "execution_count": 16,
     "metadata": {},
     "output_type": "execute_result"
    }
   ],
   "source": [
    "# test\n",
    "\n",
    "# df_products_cleaned[df_products_cleaned['l2_category'] == 'Syrups (1136)'].head(3)\n",
    "df_products_cleaned[df_products_cleaned['l2_category'] == 'Syrups (1289)'].head(3)\n"
   ]
  },
  {
   "cell_type": "code",
   "execution_count": 29,
   "id": "07744f54",
   "metadata": {},
   "outputs": [],
   "source": [
    "# csv\n",
    "\n",
    "# Unique product names\n",
    "unique_products = df_products_cleaned[[\"product_id\", \"product_name\"]].drop_duplicates()\n",
    "\n",
    "unique_products.to_csv(\"data/supporting/unique_products.csv\", index=False)\n"
   ]
  },
  {
   "cell_type": "code",
   "execution_count": 17,
   "id": "32f431e7",
   "metadata": {},
   "outputs": [
    {
     "name": "stdout",
     "output_type": "stream",
     "text": [
      "<class 'pandas.core.frame.DataFrame'>\n",
      "RangeIndex: 32226 entries, 0 to 32225\n",
      "Data columns (total 12 columns):\n",
      " #   Column             Non-Null Count  Dtype \n",
      "---  ------             --------------  ----- \n",
      " 0   product_id         32226 non-null  object\n",
      " 1   product_name       32226 non-null  object\n",
      " 2   unit               32226 non-null  object\n",
      " 3   product_type       32226 non-null  object\n",
      " 4   brand_name         32226 non-null  object\n",
      " 5   manufacturer_name  32226 non-null  object\n",
      " 6   l0_category        32226 non-null  object\n",
      " 7   l1_category        32226 non-null  object\n",
      " 8   l2_category        32226 non-null  object\n",
      " 9   l0_category_id     32226 non-null  object\n",
      " 10  l1_category_id     32226 non-null  object\n",
      " 11  l2_category_id     32226 non-null  object\n",
      "dtypes: object(12)\n",
      "memory usage: 3.0+ MB\n"
     ]
    }
   ],
   "source": [
    "df_products_cleaned.info()"
   ]
  },
  {
   "cell_type": "markdown",
   "id": "eb8d463e",
   "metadata": {},
   "source": [
    "## Problem 06: <br> **1,478 *product_id* present in *Sales* but missing in *Products***\n",
    "\n",
    "\n",
    "\n",
    "Number of *product_id* in *Sales* not found in *Products*: **1,478** <br>\n",
    "-> The products metadata have not recorded <br>\n",
    "**Proposal:** add dummy products to *Products*\n",
    "\n",
    "Number of *product_id* in *Products* not found in *Sales*: **16,461** <br>\n",
    "-> It can be unsold products. Totally fine!"
   ]
  },
  {
   "cell_type": "code",
   "execution_count": 27,
   "id": "0b426886",
   "metadata": {},
   "outputs": [
    {
     "name": "stdout",
     "output_type": "stream",
     "text": [
      "Count of product_id in *Sales*: 17243\n",
      "Count of product_id in *Products*: 32226\n",
      "---\n",
      "[WARNING]\n",
      " Count of product_id in *Sales* not found in *Products*: 1478\n",
      "[INFO]\n",
      " Count of product_id in *Products* not found in *Sales*: 16461\n"
     ]
    }
   ],
   "source": [
    "# \n",
    "\n",
    "print(\"Count of product_id in *Sales*:\", df_sales_cleaned[\"product_id\"].unique().shape[0])\n",
    "print(\"Count of product_id in *Products*:\", df_products_cleaned[\"product_id\"].unique().shape[0])\n",
    "print(\"---\")\n",
    "\n",
    "sales_products = set(df_sales_cleaned[\"product_id\"].unique())\n",
    "products_master = set(df_products_cleaned[\"product_id\"].unique())\n",
    "\n",
    "missing_in_products = sales_products - products_master\n",
    "print(f\"[WARNING]\\n Count of product_id in *Sales* not found in *Products*: {len(missing_in_products)}\")\n",
    "pd.Series(list(missing_in_products)).to_csv(\"data/supporting/missing_in_products.csv\", index=False)\n",
    "\n",
    "\n",
    "unused_in_sales = products_master - sales_products\n",
    "print(f\"[INFO]\\n Count of product_id in *Products* not found in *Sales*: {len(unused_in_sales)}\")\n"
   ]
  },
  {
   "cell_type": "code",
   "execution_count": null,
   "id": "e186d660",
   "metadata": {},
   "outputs": [
    {
     "name": "stdout",
     "output_type": "stream",
     "text": [
      "[OK] Exported 526464 orders to 'orders_missing_in_products.csv'\n"
     ]
    }
   ],
   "source": [
    "#\n",
    "\n",
    "# flitering\n",
    "orders_with_missing_products = df_sales_cleaned[\n",
    "    df_sales_cleaned[\"product_id\"].isin(missing_in_products)\n",
    "]\n",
    "\n",
    "# to CSV\n",
    "orders_with_missing_products.to_csv(\"data/anomalies/orders_missing_in_products.csv\", index=False)\n",
    "\n",
    "print(f\"[OK] Exported {orders_with_missing_products.shape[0]} orders to 'orders_missing_in_products.csv'\")"
   ]
  },
  {
   "cell_type": "code",
   "execution_count": null,
   "id": "5155ff00",
   "metadata": {},
   "outputs": [
    {
     "name": "stdout",
     "output_type": "stream",
     "text": [
      "1478\n"
     ]
    }
   ],
   "source": [
    "print(orders_with_missing_products['product_id'].unique().shape[0])"
   ]
  },
  {
   "cell_type": "code",
   "execution_count": null,
   "id": "549c67af",
   "metadata": {},
   "outputs": [],
   "source": [
    "# Statistics on the number of orders for each product_id missing in Products.\n",
    "\n",
    "missing_product_stats = (\n",
    "    orders_with_missing_products.groupby(\"product_id\")\n",
    "    .size()\n",
    "    .reset_index(name=\"order_count\")\n",
    "    .sort_values(by=\"order_count\", ascending=False)\n",
    ")\n",
    "\n",
    "missing_product_stats.to_csv(\n",
    "    \"data/supporting/missing_product_stats.csv\", index=False\n",
    ")"
   ]
  },
  {
   "cell_type": "code",
   "execution_count": 28,
   "id": "b118c54f",
   "metadata": {},
   "outputs": [],
   "source": [
    "# Dummy products\n",
    "\n",
    "df_dummy = pd.DataFrame({\n",
    "    \"product_id\": list(missing_in_products),\n",
    "    \"product_name\": [f\"Unknown {pid}\" for pid in missing_in_products],\n",
    "    \"unit\": \"Unknown\",\n",
    "    \"product_type\": \"Unknown\",\n",
    "    \"brand_name\": \"Unknown\",\n",
    "    \"manufacturer_name\": \"Unknown\",\n",
    "    \"l0_category\": \"Unknown\",\n",
    "    \"l1_category\": \"Unknown\",\n",
    "    \"l2_category\": \"Unknown\",\n",
    "    \"l0_category_id\": \"Unknown\",\n",
    "    \"l1_category_id\": \"Unknown\",\n",
    "    \"l2_category_id\": \"Unknown\"\n",
    "})"
   ]
  },
  {
   "cell_type": "code",
   "execution_count": 37,
   "id": "adc66ffc",
   "metadata": {},
   "outputs": [
    {
     "data": {
      "text/html": [
       "<div>\n",
       "<style scoped>\n",
       "    .dataframe tbody tr th:only-of-type {\n",
       "        vertical-align: middle;\n",
       "    }\n",
       "\n",
       "    .dataframe tbody tr th {\n",
       "        vertical-align: top;\n",
       "    }\n",
       "\n",
       "    .dataframe thead th {\n",
       "        text-align: right;\n",
       "    }\n",
       "</style>\n",
       "<table border=\"1\" class=\"dataframe\">\n",
       "  <thead>\n",
       "    <tr style=\"text-align: right;\">\n",
       "      <th></th>\n",
       "      <th>product_id</th>\n",
       "      <th>product_name</th>\n",
       "      <th>l0_category</th>\n",
       "      <th>l1_category</th>\n",
       "      <th>l2_category</th>\n",
       "    </tr>\n",
       "  </thead>\n",
       "  <tbody>\n",
       "    <tr>\n",
       "      <th>0</th>\n",
       "      <td>475713</td>\n",
       "      <td>Unknown 475713</td>\n",
       "      <td>Unknown</td>\n",
       "      <td>Unknown</td>\n",
       "      <td>Unknown</td>\n",
       "    </tr>\n",
       "    <tr>\n",
       "      <th>1</th>\n",
       "      <td>448554</td>\n",
       "      <td>Unknown 448554</td>\n",
       "      <td>Unknown</td>\n",
       "      <td>Unknown</td>\n",
       "      <td>Unknown</td>\n",
       "    </tr>\n",
       "    <tr>\n",
       "      <th>2</th>\n",
       "      <td>194125</td>\n",
       "      <td>Unknown 194125</td>\n",
       "      <td>Unknown</td>\n",
       "      <td>Unknown</td>\n",
       "      <td>Unknown</td>\n",
       "    </tr>\n",
       "    <tr>\n",
       "      <th>3</th>\n",
       "      <td>484732</td>\n",
       "      <td>Unknown 484732</td>\n",
       "      <td>Unknown</td>\n",
       "      <td>Unknown</td>\n",
       "      <td>Unknown</td>\n",
       "    </tr>\n",
       "    <tr>\n",
       "      <th>4</th>\n",
       "      <td>483879</td>\n",
       "      <td>Unknown 483879</td>\n",
       "      <td>Unknown</td>\n",
       "      <td>Unknown</td>\n",
       "      <td>Unknown</td>\n",
       "    </tr>\n",
       "  </tbody>\n",
       "</table>\n",
       "</div>"
      ],
      "text/plain": [
       "  product_id    product_name l0_category l1_category l2_category\n",
       "0     475713  Unknown 475713     Unknown     Unknown     Unknown\n",
       "1     448554  Unknown 448554     Unknown     Unknown     Unknown\n",
       "2     194125  Unknown 194125     Unknown     Unknown     Unknown\n",
       "3     484732  Unknown 484732     Unknown     Unknown     Unknown\n",
       "4     483879  Unknown 483879     Unknown     Unknown     Unknown"
      ]
     },
     "execution_count": 37,
     "metadata": {},
     "output_type": "execute_result"
    }
   ],
   "source": [
    "df_dummy.head(5)"
   ]
  },
  {
   "cell_type": "code",
   "execution_count": 29,
   "id": "59d0104f",
   "metadata": {},
   "outputs": [],
   "source": [
    "# Add dummy products to Products\n",
    "\n",
    "df_products_cleaned_extended = pd.concat([df_products_cleaned, df_dummy])"
   ]
  },
  {
   "cell_type": "code",
   "execution_count": 34,
   "id": "32e1374f",
   "metadata": {},
   "outputs": [
    {
     "name": "stdout",
     "output_type": "stream",
     "text": [
      "<class 'pandas.core.frame.DataFrame'>\n",
      "Index: 33704 entries, 0 to 1477\n",
      "Data columns (total 12 columns):\n",
      " #   Column             Non-Null Count  Dtype \n",
      "---  ------             --------------  ----- \n",
      " 0   product_id         33704 non-null  object\n",
      " 1   product_name       33704 non-null  object\n",
      " 2   unit               32226 non-null  object\n",
      " 3   product_type       32226 non-null  object\n",
      " 4   brand_name         32226 non-null  object\n",
      " 5   manufacturer_name  32226 non-null  object\n",
      " 6   l0_category        33704 non-null  object\n",
      " 7   l1_category        33704 non-null  object\n",
      " 8   l2_category        33704 non-null  object\n",
      " 9   l0_category_id     32226 non-null  object\n",
      " 10  l1_category_id     32226 non-null  object\n",
      " 11  l2_category_id     32226 non-null  object\n",
      "dtypes: object(12)\n",
      "memory usage: 3.3+ MB\n"
     ]
    }
   ],
   "source": [
    "df_products_cleaned_extended.info()"
   ]
  },
  {
   "cell_type": "code",
   "execution_count": 38,
   "id": "e6d76812",
   "metadata": {},
   "outputs": [
    {
     "data": {
      "text/html": [
       "<div>\n",
       "<style scoped>\n",
       "    .dataframe tbody tr th:only-of-type {\n",
       "        vertical-align: middle;\n",
       "    }\n",
       "\n",
       "    .dataframe tbody tr th {\n",
       "        vertical-align: top;\n",
       "    }\n",
       "\n",
       "    .dataframe thead th {\n",
       "        text-align: right;\n",
       "    }\n",
       "</style>\n",
       "<table border=\"1\" class=\"dataframe\">\n",
       "  <thead>\n",
       "    <tr style=\"text-align: right;\">\n",
       "      <th></th>\n",
       "      <th>product_id</th>\n",
       "      <th>product_name</th>\n",
       "      <th>unit</th>\n",
       "      <th>product_type</th>\n",
       "      <th>brand_name</th>\n",
       "      <th>manufacturer_name</th>\n",
       "      <th>l0_category</th>\n",
       "      <th>l1_category</th>\n",
       "      <th>l2_category</th>\n",
       "      <th>l0_category_id</th>\n",
       "      <th>l1_category_id</th>\n",
       "      <th>l2_category_id</th>\n",
       "    </tr>\n",
       "  </thead>\n",
       "  <tbody>\n",
       "    <tr>\n",
       "      <th>0</th>\n",
       "      <td>476763</td>\n",
       "      <td>Christmas - Card</td>\n",
       "      <td>1 unit</td>\n",
       "      <td>Card</td>\n",
       "      <td>Unknown</td>\n",
       "      <td>HOT</td>\n",
       "      <td>Specials</td>\n",
       "      <td>Bill Breaker</td>\n",
       "      <td>Bill Breaker</td>\n",
       "      <td>343</td>\n",
       "      <td>1741</td>\n",
       "      <td>1741</td>\n",
       "    </tr>\n",
       "    <tr>\n",
       "      <th>1</th>\n",
       "      <td>483436</td>\n",
       "      <td>Plum BodyLovin' Hawaiian Rumba Shower Gel - Sa...</td>\n",
       "      <td>20 ml</td>\n",
       "      <td>Sample</td>\n",
       "      <td>Plum BodyLovin'</td>\n",
       "      <td>Pureplay Skin Sciences India Pvt. Ltd.</td>\n",
       "      <td>Specials</td>\n",
       "      <td>Free Store</td>\n",
       "      <td>Free Store</td>\n",
       "      <td>343</td>\n",
       "      <td>1493</td>\n",
       "      <td>1493</td>\n",
       "    </tr>\n",
       "    <tr>\n",
       "      <th>2</th>\n",
       "      <td>476825</td>\n",
       "      <td>Diwali Gift Card Free - Sample</td>\n",
       "      <td>1 unit</td>\n",
       "      <td>Sample</td>\n",
       "      <td>Unknown</td>\n",
       "      <td>HOT</td>\n",
       "      <td>Specials</td>\n",
       "      <td>Bill Breaker</td>\n",
       "      <td>Bill Breaker</td>\n",
       "      <td>343</td>\n",
       "      <td>1741</td>\n",
       "      <td>1741</td>\n",
       "    </tr>\n",
       "    <tr>\n",
       "      <th>3</th>\n",
       "      <td>483438</td>\n",
       "      <td>Plum BodyLovin' Trippin' Mimosas Shower Gel - ...</td>\n",
       "      <td>20 ml</td>\n",
       "      <td>Sample</td>\n",
       "      <td>Plum BodyLovin'</td>\n",
       "      <td>Pureplay Skin Sciences India Pvt. Ltd.</td>\n",
       "      <td>Specials</td>\n",
       "      <td>Free Store</td>\n",
       "      <td>Free Store</td>\n",
       "      <td>343</td>\n",
       "      <td>1493</td>\n",
       "      <td>1493</td>\n",
       "    </tr>\n",
       "    <tr>\n",
       "      <th>4</th>\n",
       "      <td>480473</td>\n",
       "      <td>Flipkart Valentine Day Greeting - Card</td>\n",
       "      <td>1 unit</td>\n",
       "      <td>Card</td>\n",
       "      <td>Flipkart</td>\n",
       "      <td>Dummy Manufacturer</td>\n",
       "      <td>Specials</td>\n",
       "      <td>Bill Breaker</td>\n",
       "      <td>Bill Breaker</td>\n",
       "      <td>343</td>\n",
       "      <td>1741</td>\n",
       "      <td>1741</td>\n",
       "    </tr>\n",
       "  </tbody>\n",
       "</table>\n",
       "</div>"
      ],
      "text/plain": [
       "  product_id                                       product_name    unit  \\\n",
       "0     476763                                   Christmas - Card  1 unit   \n",
       "1     483436  Plum BodyLovin' Hawaiian Rumba Shower Gel - Sa...   20 ml   \n",
       "2     476825                     Diwali Gift Card Free - Sample  1 unit   \n",
       "3     483438  Plum BodyLovin' Trippin' Mimosas Shower Gel - ...   20 ml   \n",
       "4     480473             Flipkart Valentine Day Greeting - Card  1 unit   \n",
       "\n",
       "  product_type       brand_name                       manufacturer_name  \\\n",
       "0         Card          Unknown                                     HOT   \n",
       "1       Sample  Plum BodyLovin'  Pureplay Skin Sciences India Pvt. Ltd.   \n",
       "2       Sample          Unknown                                     HOT   \n",
       "3       Sample  Plum BodyLovin'  Pureplay Skin Sciences India Pvt. Ltd.   \n",
       "4         Card         Flipkart                      Dummy Manufacturer   \n",
       "\n",
       "  l0_category   l1_category   l2_category l0_category_id l1_category_id  \\\n",
       "0    Specials  Bill Breaker  Bill Breaker            343           1741   \n",
       "1    Specials    Free Store    Free Store            343           1493   \n",
       "2    Specials  Bill Breaker  Bill Breaker            343           1741   \n",
       "3    Specials    Free Store    Free Store            343           1493   \n",
       "4    Specials  Bill Breaker  Bill Breaker            343           1741   \n",
       "\n",
       "  l2_category_id  \n",
       "0           1741  \n",
       "1           1493  \n",
       "2           1741  \n",
       "3           1493  \n",
       "4           1741  "
      ]
     },
     "execution_count": 38,
     "metadata": {},
     "output_type": "execute_result"
    }
   ],
   "source": [
    "df_products_cleaned_extended.head(5)"
   ]
  },
  {
   "cell_type": "markdown",
   "id": "e60b6625",
   "metadata": {},
   "source": [
    "# Export cleaned data to csv"
   ]
  },
  {
   "cell_type": "code",
   "execution_count": 41,
   "id": "e4391c6a",
   "metadata": {},
   "outputs": [],
   "source": [
    "# to csv full cleaned Sales data\n",
    "\n",
    "df_sales_cleaned.to_csv('data/cleaned/sales_cleaned.csv', index=False)"
   ]
  },
  {
   "cell_type": "code",
   "execution_count": 30,
   "id": "5e733cc8",
   "metadata": {},
   "outputs": [],
   "source": [
    "# to csv full cleaned products data\n",
    "\n",
    "df_products_cleaned_extended[\"product_name\"] = df_products_cleaned_extended[\"product_name\"].str.strip('\"')\n",
    "df_products_cleaned_extended.to_csv('data/cleaned/products_cleaned.csv', index=False)"
   ]
  }
 ],
 "metadata": {
  "kernelspec": {
   "display_name": "base",
   "language": "python",
   "name": "python3"
  },
  "language_info": {
   "codemirror_mode": {
    "name": "ipython",
    "version": 3
   },
   "file_extension": ".py",
   "mimetype": "text/x-python",
   "name": "python",
   "nbconvert_exporter": "python",
   "pygments_lexer": "ipython3",
   "version": "3.11.5"
  }
 },
 "nbformat": 4,
 "nbformat_minor": 5
}
