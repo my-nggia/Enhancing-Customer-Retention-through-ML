{
 "cells": [
  {
   "cell_type": "markdown",
   "id": "52d0b90b",
   "metadata": {},
   "source": [
    "# Setup and Load Data"
   ]
  },
  {
   "cell_type": "markdown",
   "id": "e0b7f287",
   "metadata": {},
   "source": [
    "These cells initializes our environment and loads the cleaned sales and products datasets that we prepared earlier. We're working with 46M+ sales transactions across 2M customers from Flipkart's e-commerce platform."
   ]
  },
  {
   "cell_type": "code",
   "execution_count": 20,
   "id": "644f8504",
   "metadata": {},
   "outputs": [],
   "source": [
    "import pandas as pd\n",
    "import numpy as np\n",
    "from datetime import datetime, timedelta\n",
    "import warnings\n",
    "warnings.filterwarnings('ignore')"
   ]
  },
  {
   "cell_type": "code",
   "execution_count": 21,
   "id": "45b82c77",
   "metadata": {},
   "outputs": [],
   "source": [
    "sales = pd.read_csv('sales_cleaned.csv')\n",
    "products = pd.read_csv('products_cleaned.csv')"
   ]
  },
  {
   "cell_type": "code",
   "execution_count": 22,
   "id": "09f92f4f",
   "metadata": {},
   "outputs": [
    {
     "name": "stdout",
     "output_type": "stream",
     "text": [
      "Columns: ['date', 'city_name', 'order_id', 'cart_id', 'dim_customer_key', 'procured_quantity', 'unit_selling_price', 'total_discount_amount', 'product_id', 'total_weighted_landing_price']\n",
      "          date  city_name   order_id    cart_id  dim_customer_key  \\\n",
      "0   2022-04-01     Mumbai  112246974  173273802          17995199   \n",
      "1   2022-04-01  Bengaluru  112246976  173273597          18259433   \n",
      "2   2022-04-01  Bengaluru  112247019  173123717           5402601   \n",
      "3   2022-04-01     HR-NCR  112247045  172547459          15649744   \n",
      "4   2022-04-01     Mumbai  112247123  173081820          10127605   \n",
      "5   2022-04-01     HR-NCR  112247149  173274225            479129   \n",
      "6   2022-04-01  Bengaluru  112247170  173273989           8658748   \n",
      "7   2022-04-01     Mumbai  112247182  173273662          16541671   \n",
      "8   2022-04-01      Delhi  112247233  173269263             21466   \n",
      "9   2022-04-01      Delhi  112247239  173274446          13522664   \n",
      "10  2022-04-01      Delhi  112247317  173274278          13497358   \n",
      "11  2022-04-01     HR-NCR  112247321  173273059           4480518   \n",
      "12  2022-04-01      Delhi  112247317  173274278          13497358   \n",
      "13  2022-04-01  Bengaluru  112247328  173269880          18049405   \n",
      "14  2022-04-01      Delhi  112247393  173273514           5933479   \n",
      "15  2022-04-01  Bengaluru  112247425  173273350          17213227   \n",
      "16  2022-04-01     HR-NCR  112247431  173274695           1778240   \n",
      "17  2022-04-01      Delhi  112247443  169126739           7258345   \n",
      "18  2022-04-01     HR-NCR  112247447  172994313           4246317   \n",
      "19  2022-04-01     HR-NCR  112247464  173273818          13982586   \n",
      "\n",
      "    procured_quantity  unit_selling_price  total_discount_amount  product_id  \\\n",
      "0                   1               234.0                    0.0      344107   \n",
      "1                   1                64.0                    0.0      389676   \n",
      "2                   1              1031.0                    0.0       39411   \n",
      "3                   1                57.0                    0.0      369742   \n",
      "4                   2                30.0                    0.0       12872   \n",
      "5                   1                65.0                    0.0       99407   \n",
      "6                   1               115.0                    0.0      439935   \n",
      "7                   1                20.0                    0.0      424394   \n",
      "8                   1                24.0                    0.0      470636   \n",
      "9                   1                36.0                    0.0         311   \n",
      "10                  1                20.0                    0.0      339152   \n",
      "11                  1                50.0                    0.0       18546   \n",
      "12                  1                23.0                    0.0        4927   \n",
      "13                  2                19.0                    0.0       37083   \n",
      "14                  1               130.0                    0.0      366189   \n",
      "15                  1                13.0                    0.0        3928   \n",
      "16                  1                35.0                    0.0      424982   \n",
      "17                  1                76.0                    0.0      432764   \n",
      "18                  2                91.0                    0.0          13   \n",
      "19                  1                16.0                    0.0        3913   \n",
      "\n",
      "    total_weighted_landing_price  \n",
      "0                     202.513030  \n",
      "1                      48.714375  \n",
      "2                     975.996000  \n",
      "3                      25.000000  \n",
      "4                      57.980004  \n",
      "5                      61.500000  \n",
      "6                     103.059875  \n",
      "7                      15.399999  \n",
      "8                      18.000000  \n",
      "9                      32.388370  \n",
      "10                     12.000000  \n",
      "11                     46.477013  \n",
      "12                     14.000000  \n",
      "13                     36.100000  \n",
      "14                    113.043370  \n",
      "15                      8.000000  \n",
      "16                     29.799997  \n",
      "17                     85.419830  \n",
      "18                    150.022240  \n",
      "19                     10.000000  \n"
     ]
    }
   ],
   "source": [
    "print(\"Columns:\", sales.columns.tolist())\n",
    "pd.set_option('display.max_columns', None)\n",
    "print(sales.head(20))"
   ]
  },
  {
   "cell_type": "code",
   "execution_count": 23,
   "id": "5739f7f9",
   "metadata": {},
   "outputs": [],
   "source": [
    "sales = sales.rename(columns={\n",
    "    \"city_name\": \"city\",\n",
    "    \"dim_customer_key\": \"customer_id\",\n",
    "    \"procured_quantity\": \"quantity\",\n",
    "    \"unit_selling_price\": \"unit_price\",\n",
    "    \"total_discount_amount\": \"discount\",\n",
    "    \"total_weighted_landing_price\": \"landing_price\"\n",
    "})"
   ]
  },
  {
   "cell_type": "code",
   "execution_count": 24,
   "id": "f127f3f0",
   "metadata": {},
   "outputs": [
    {
     "name": "stdout",
     "output_type": "stream",
     "text": [
      "Columns: ['product_id', 'product_name', 'unit', 'product_type', 'brand_name', 'manufacturer_name', 'l0_category', 'l1_category', 'l2_category', 'l0_category_id', 'l1_category_id', 'l2_category_id']\n",
      "    product_id                                       product_name  \\\n",
      "0       476763                                   Christmas - Card   \n",
      "1       483436  Plum BodyLovin' Hawaiian Rumba Shower Gel - Sa...   \n",
      "2       476825                     Diwali Gift Card Free - Sample   \n",
      "3       483438  Plum BodyLovin' Trippin' Mimosas Shower Gel - ...   \n",
      "4       480473             Flipkart Valentine Day Greeting - Card   \n",
      "5       483694         Dabur Vita Chocolate Health Drink - Sample   \n",
      "6       486016   Plum Green Tea Pore Cleansing Face Wash - Sample   \n",
      "7       486017       Plum Green Tea Oil-Free Moisturizer - Sample   \n",
      "8       486124               Kari kari Salt & Pepper Snack Sample   \n",
      "9       486125                   Maggi Liquid Coconut Milk Sample   \n",
      "10      486376                       Orion Mango Choco Pie Sample   \n",
      "11      486377                      Tata Tea Gold Care Tea Sample   \n",
      "12      486559            Conscious Food Organic Raw Sugar Sample   \n",
      "13      487659              The Laughing Cow Creamy Cheese Sample   \n",
      "14      487667   Sunfeast Dark Fantasy Choco Fills Cookies Sample   \n",
      "15      487668  Sunfeast All Rounder Cracker - Chatpata Masala...   \n",
      "16      488061          Sleepy Owl Cold Brew Coffee (Bomb) Sample   \n",
      "17      488062         Sleepy Owl Cold Brew Coffee (Mocha) Sample   \n",
      "18      488063   Sleepy Owl Cold Brew Coffee (New Orleans) Sample   \n",
      "19      488059             Sleepy Owl Cinnamon Brew Coffee Sample   \n",
      "\n",
      "                 unit product_type             brand_name  \\\n",
      "0              1 unit         Card                Unknown   \n",
      "1               20 ml       Sample        Plum BodyLovin'   \n",
      "2              1 unit       Sample                Unknown   \n",
      "3               20 ml       Sample        Plum BodyLovin'   \n",
      "4              1 unit         Card               Flipkart   \n",
      "5                75 g       Sample                  Dabur   \n",
      "6               15 ml       Sample                   Plum   \n",
      "7               15 ml       Sample                   Plum   \n",
      "8                22 g       Sample              Kari kari   \n",
      "9              180 ml       Sample                  Maggi   \n",
      "10               28 g       Sample                  Orion   \n",
      "11               25 g       Sample               Tata Tea   \n",
      "12               50 g       Sample         Conscious Food   \n",
      "13               15 g       Sample       The Laughing Cow   \n",
      "14               20 g       Sample  Sunfeast Dark Fantasy   \n",
      "15             28.2 g       Sample               Sunfeast   \n",
      "16           5 x 50 g       Sample             Sleepy Owl   \n",
      "17           5 x 50 g       Sample             Sleepy Owl   \n",
      "18           5 x 50 g       Sample             Sleepy Owl   \n",
      "19  1 pack (5 x 50 g)       Sample             Sleepy Owl   \n",
      "\n",
      "                         manufacturer_name l0_category   l1_category  \\\n",
      "0                                      HOT    Specials  Bill Breaker   \n",
      "1   Pureplay Skin Sciences India Pvt. Ltd.    Specials    Free Store   \n",
      "2                                      HOT    Specials  Bill Breaker   \n",
      "3   Pureplay Skin Sciences India Pvt. Ltd.    Specials    Free Store   \n",
      "4                       Dummy Manufacturer    Specials  Bill Breaker   \n",
      "5                      Dabur India Pvt Ltd    Specials    Free Store   \n",
      "6   Pureplay Skin Sciences India Pvt. Ltd.    Specials    Free Store   \n",
      "7   Pureplay Skin Sciences India Pvt. Ltd.    Specials    Free Store   \n",
      "8                                 LT Foods    Specials       Freebie   \n",
      "9                             Nestle India    Specials       Freebie   \n",
      "10                ORION FOOD VINA CO. LTD.    Specials       Freebie   \n",
      "11          Tata consumer products limited    Specials       Freebie   \n",
      "12                          Conscious Food    Specials       Freebie   \n",
      "13                   Bel Vietnam Co., Ltd.    Specials       Freebie   \n",
      "14                             ITC Limited    Specials       Freebie   \n",
      "15                             ITC Limited    Specials       Freebie   \n",
      "16             Sleepy Owl Coffee Pvt. Ltd.    Specials       Freebie   \n",
      "17             Sleepy Owl Coffee Pvt. Ltd.    Specials       Freebie   \n",
      "18             Sleepy Owl Coffee Pvt. Ltd.    Specials       Freebie   \n",
      "19             Sleepy Owl Coffee Pvt. Ltd.    Specials       Freebie   \n",
      "\n",
      "     l2_category l0_category_id l1_category_id l2_category_id  \n",
      "0   Bill Breaker            343           1741           1741  \n",
      "1     Free Store            343           1493           1493  \n",
      "2   Bill Breaker            343           1741           1741  \n",
      "3     Free Store            343           1493           1493  \n",
      "4   Bill Breaker            343           1741           1741  \n",
      "5     Free Store            343           1493           1493  \n",
      "6     Free Store            343           1493           1493  \n",
      "7     Free Store            343           1493           1493  \n",
      "8        Freebie            343           1013           1013  \n",
      "9        Freebie            343           1013           1013  \n",
      "10       Freebie            343           1013           1013  \n",
      "11       Freebie            343           1013           1013  \n",
      "12       Freebie            343           1013           1013  \n",
      "13       Freebie            343           1013           1013  \n",
      "14       Freebie            343           1013           1013  \n",
      "15       Freebie            343           1013           1013  \n",
      "16       Freebie            343           1013           1013  \n",
      "17       Freebie            343           1013           1013  \n",
      "18       Freebie            343           1013           1013  \n",
      "19       Freebie            343           1013           1013  \n"
     ]
    }
   ],
   "source": [
    "print(\"Columns:\", products.columns.tolist())\n",
    "pd.set_option('display.max_columns', None)\n",
    "print(products.head(20))"
   ]
  },
  {
   "cell_type": "code",
   "execution_count": 25,
   "id": "71ee38cd",
   "metadata": {},
   "outputs": [],
   "source": [
    "products = products.rename(columns={\n",
    "    \"product_name\": \"name\",\n",
    "    \"product_type\": \"type\",\n",
    "    \"brand_name\": \"brand\",\n",
    "    \"manufacturer_name\": \"manufacturer\",\n",
    "    \"l0_category\": \"category_l0\",\n",
    "    \"l1_category\": \"category_l1\",\n",
    "    \"l2_category\": \"category_l2\",\n",
    "    \"l0_category_id\": \"cat0_id\",\n",
    "    \"l1_category_id\": \"cat1_id\",\n",
    "    \"l2_category_id\": \"cat2_id\"\n",
    "})"
   ]
  },
  {
   "cell_type": "code",
   "execution_count": 26,
   "id": "d7eea637",
   "metadata": {},
   "outputs": [],
   "source": [
    "# Replace rows where ALL main product attributes are \"Unknown\" with \"Unspecified\"\n",
    "cols_to_check = [\n",
    "    \"name\", \"unit\", \"type\", \n",
    "    \"brand\", \"manufacturer\", \n",
    "    \"category_l0\", \"category_l1\", \"category_l2\",\n",
    "    \"cat0_id\", \"cat1_id\", \"cat2_id\"\n",
    "]\n",
    "\n",
    "mask_all_unknown = products[cols_to_check].eq(\"Unknown\").all(axis=1)\n",
    "products.loc[mask_all_unknown, cols_to_check] = \"Unspecified\""
   ]
  },
  {
   "cell_type": "code",
   "execution_count": 27,
   "id": "cd6217df",
   "metadata": {},
   "outputs": [
    {
     "name": "stdout",
     "output_type": "stream",
     "text": [
      "Sales shape: (46448124, 10)\n",
      "Products shape: (33704, 12)\n",
      "Unique customers: 1,986,574\n",
      "Unique products sold: 17,243\n",
      "Date range: 2022-04-01 to 2022-07-10\n"
     ]
    }
   ],
   "source": [
    "print(f\"Sales shape: {sales.shape}\")\n",
    "print(f\"Products shape: {products.shape}\")\n",
    "print(f\"Unique customers: {sales['customer_id'].nunique():,}\")\n",
    "print(f\"Unique products sold: {sales['product_id'].nunique():,}\")\n",
    "print(f\"Date range: {sales['date'].min()} to {sales['date'].max()}\")"
   ]
  },
  {
   "cell_type": "code",
   "execution_count": 28,
   "id": "de8faf30",
   "metadata": {},
   "outputs": [],
   "source": [
    "# Compute revenue, profit, and price range\n",
    "sales[\"revenue\"] = (sales[\"unit_price\"] * sales[\"quantity\"]) - sales[\"discount\"]\n",
    "sales[\"profit\"] = sales[\"revenue\"] - sales[\"landing_price\"]\n",
    "\n",
    "# Define price bins and labels\n",
    "price_ranges = [0, 50, 100, 250, 500, 1000, 5000, float(\"inf\")]\n",
    "labels = [\"$0-50\", \"$50-100\", \"$100-250\", \"$250-500\", \"$500-1000\", \"$1000-5000\", \"$5000+\"]\n",
    "\n",
    "# Assign price range based on unit price\n",
    "sales[\"price_range\"] = pd.cut(sales[\"unit_price\"], bins=price_ranges, labels=labels)"
   ]
  },
  {
   "cell_type": "markdown",
   "id": "6d62fed4",
   "metadata": {},
   "source": [
    "# Core Customer Aggregation"
   ]
  },
  {
   "cell_type": "markdown",
   "id": "32521f44",
   "metadata": {},
   "source": [
    "Transform transaction-level data (46M rows) into customer-level features (2M rows). This is the foundation - creating one row per customer with their basic purchasing metrics like total orders, revenue, and purchase dates."
   ]
  },
  {
   "cell_type": "code",
   "execution_count": 29,
   "id": "80f51db3",
   "metadata": {},
   "outputs": [],
   "source": [
    "customer_agg = sales.groupby('customer_id').agg({\n",
    "    # Order metrics\n",
    "    'order_id': 'nunique',\n",
    "    'product_id': 'nunique',\n",
    "    \n",
    "    # Quantity metrics\n",
    "    'quantity': ['sum', 'mean', 'std'],\n",
    "    \n",
    "    # Financial metrics\n",
    "    'revenue': ['sum', 'mean', 'std', 'min', 'max'],\n",
    "    'profit': ['sum', 'mean'],\n",
    "    'discount': ['sum', 'mean', 'max'],\n",
    "    'unit_price': ['mean', 'std', 'min', 'max'],\n",
    "    \n",
    "    # Temporal\n",
    "    'date': ['min', 'max', 'nunique'],\n",
    "    'city': 'nunique'\n",
    "}).reset_index()\n",
    "\n",
    "customer_agg.columns = ['_'.join(col).strip('_') if col[1] else col[0] \n",
    "                        for col in customer_agg.columns]"
   ]
  },
  {
   "cell_type": "code",
   "execution_count": 30,
   "id": "68efad9f",
   "metadata": {},
   "outputs": [],
   "source": [
    "# Rename for clarity\n",
    "rename_dict = {\n",
    "    'order_id_nunique': 'total_orders',\n",
    "    'product_id_nunique': 'unique_products',\n",
    "    'quantity_sum': 'total_quantity',\n",
    "    'quantity_mean': 'avg_quantity_per_order',\n",
    "    'quantity_std': 'quantity_std',\n",
    "    'revenue_sum': 'total_revenue',\n",
    "    'revenue_mean': 'avg_revenue_per_order',\n",
    "    'revenue_std': 'revenue_std',\n",
    "    'revenue_min': 'min_order_revenue',\n",
    "    'revenue_max': 'max_order_revenue',\n",
    "    'profit_sum': 'total_profit',\n",
    "    'profit_mean': 'avg_profit_per_order',\n",
    "    'discount_sum': 'total_discount',\n",
    "    'discount_mean': 'avg_discount',\n",
    "    'discount_max': 'max_discount_used',\n",
    "    'unit_price_mean': 'avg_price_point',\n",
    "    'unit_price_std': 'price_std',\n",
    "    'unit_price_min': 'min_price_paid',\n",
    "    'unit_price_max': 'max_price_paid',\n",
    "    'date_min': 'first_purchase',\n",
    "    'date_max': 'last_purchase',\n",
    "    'date_nunique': 'active_days',\n",
    "    'city_nunique': 'unique_cities'\n",
    "}\n",
    "\n",
    "customer_agg = customer_agg.rename(columns=rename_dict)"
   ]
  },
  {
   "cell_type": "code",
   "execution_count": 31,
   "id": "617a6032",
   "metadata": {},
   "outputs": [],
   "source": [
    "# Fill NaN values for customers with single purchases (no std deviation)\n",
    "for col in ['quantity_std', 'revenue_std', 'price_std']:\n",
    "    customer_agg[col].fillna(0, inplace=True)"
   ]
  },
  {
   "cell_type": "code",
   "execution_count": 32,
   "id": "fb9787e3",
   "metadata": {},
   "outputs": [
    {
     "name": "stdout",
     "output_type": "stream",
     "text": [
      "Aggregation complete: 46,448,124 transactions → 1,986,574 customers\n",
      "Compression ratio: 23.4x\n",
      "Features created: 23\n"
     ]
    }
   ],
   "source": [
    "print(f\"Aggregation complete: {len(sales):,} transactions → {len(customer_agg):,} customers\")\n",
    "print(f\"Compression ratio: {len(sales)/len(customer_agg):.1f}x\")\n",
    "print(f\"Features created: {len(customer_agg.columns) - 1}\")  # -1 for customer_id"
   ]
  },
  {
   "cell_type": "markdown",
   "id": "b003d036",
   "metadata": {},
   "source": [
    "These features form the foundation for RFM analysis and customer lifetime value calculations\n",
    "\n",
    "- total_orders, total_revenue: Core metrics for customer value and engagement\n",
    "- avg_price_point: Indicates price sensitivity and purchasing power\n",
    "- price_std: Shows if customer is consistent or experimental with price ranges\n",
    "- unique_products: Measures exploration behavior vs. habitual buying"
   ]
  },
  {
   "cell_type": "markdown",
   "id": "74a1cdd7",
   "metadata": {},
   "source": [
    "# Temporal Features and Recency Metrics"
   ]
  },
  {
   "cell_type": "markdown",
   "id": "6844b11c",
   "metadata": {},
   "source": [
    "Calculate time-based features including customer lifetime, recency (key churn indicator), and recent activity windows. Recency is the #1 predictor of churn - customers who haven't purchased recently are likely to leave."
   ]
  },
  {
   "cell_type": "code",
   "execution_count": 34,
   "id": "2852129f",
   "metadata": {},
   "outputs": [],
   "source": [
    "sales['date'] = pd.to_datetime(sales['date'])\n",
    "customer_agg['first_purchase'] = pd.to_datetime(customer_agg['first_purchase'], errors='coerce')\n",
    "customer_agg['last_purchase'] = pd.to_datetime(customer_agg['last_purchase'], errors='coerce')"
   ]
  },
  {
   "cell_type": "code",
   "execution_count": 35,
   "id": "b63270fc",
   "metadata": {},
   "outputs": [],
   "source": [
    "# Set reference date (last date in dataset)\n",
    "reference_date = pd.to_datetime('2022-07-10')\n",
    "\n",
    "# Customer lifetime (how long they've been with us)\n",
    "customer_agg['customer_lifetime_days'] = (\n",
    "    customer_agg['last_purchase'] - customer_agg['first_purchase']\n",
    ").dt.days\n",
    "\n",
    "# Recency (days since last purchase - critical for churn)\n",
    "customer_agg['recency_days'] = (\n",
    "    reference_date - customer_agg['last_purchase']\n",
    ").dt.days\n",
    "\n",
    "# Core RFM values\n",
    "customer_agg['recency'] = customer_agg['recency_days']\n",
    "customer_agg['frequency'] = customer_agg['total_orders']\n",
    "customer_agg['monetary'] = customer_agg['total_revenue']"
   ]
  },
  {
   "cell_type": "code",
   "execution_count": 36,
   "id": "8aedf0e2",
   "metadata": {},
   "outputs": [
    {
     "name": "stdout",
     "output_type": "stream",
     "text": [
      "Calculating recent activity (last 30/60/90 days)...\n"
     ]
    }
   ],
   "source": [
    "# Recent activity in different time windows\n",
    "print(\"Calculating recent activity (last 30/60/90 days)...\")\n",
    "for window in [30, 60, 90]:\n",
    "    mask = sales['date'] >= (reference_date - pd.Timedelta(days=window))\n",
    "    recent = sales[mask].groupby('customer_id').agg({\n",
    "        'order_id': 'nunique',\n",
    "        'revenue': 'sum',\n",
    "        'quantity': 'sum'\n",
    "    }).rename(columns={\n",
    "        'order_id': f'orders_last_{window}d',\n",
    "        'revenue': f'revenue_last_{window}d',\n",
    "        'quantity': f'items_last_{window}d'\n",
    "    })\n",
    "    customer_agg = customer_agg.merge(recent, on='customer_id', how='left')\n",
    "\n",
    "# Fill NaN with 0 (customers with no recent activity)\n",
    "for col in customer_agg.columns:\n",
    "    if 'last_' in col:\n",
    "        customer_agg[col].fillna(0, inplace=True)"
   ]
  },
  {
   "cell_type": "code",
   "execution_count": 37,
   "id": "d913fa58",
   "metadata": {},
   "outputs": [
    {
     "name": "stdout",
     "output_type": "stream",
     "text": [
      "Average customer lifetime: 30.8 days\n",
      "Average recency: 34.2 days\n",
      "Active in last 30 days: 54.0%\n"
     ]
    }
   ],
   "source": [
    "print(f\"Average customer lifetime: {customer_agg['customer_lifetime_days'].mean():.1f} days\")\n",
    "print(f\"Average recency: {customer_agg['recency_days'].mean():.1f} days\")\n",
    "print(f\"Active in last 30 days: {(customer_agg['orders_last_30d'] > 0).mean():.1%}\")"
   ]
  },
  {
   "cell_type": "markdown",
   "id": "c20c113f",
   "metadata": {},
   "source": [
    "These features are essential for time-series based predictions and understanding customer lifecycle stages\n",
    "\n",
    "- recency_days: Single best predictor of churn - customers not buying for 60+ days are likely churned\n",
    "- orders_last_30/60/90d: Captures engagement trajectory - declining recent orders signals churn risk\n",
    "- customer_lifetime_days: Differentiates new vs. established customers for better segmentation"
   ]
  },
  {
   "cell_type": "markdown",
   "id": "2fb35f9c",
   "metadata": {},
   "source": [
    "# Purchase Pattern Analysis"
   ]
  },
  {
   "cell_type": "markdown",
   "id": "de0ddf6e",
   "metadata": {},
   "source": [
    "Calculate the regularity and predictability of customer purchases. Some customers buy weekly like clockwork, others sporadically. This helps identify habitual vs. occasional buyers."
   ]
  },
  {
   "cell_type": "code",
   "execution_count": 38,
   "id": "68a79417",
   "metadata": {},
   "outputs": [],
   "source": [
    "# Get order dates for each customer\n",
    "order_dates = sales.groupby(['customer_id', 'order_id'])['date'].first().reset_index()\n",
    "order_dates = order_dates.sort_values(['customer_id', 'date'])\n",
    "\n",
    "# Calculate days between consecutive orders (vectorized for speed)\n",
    "order_dates['days_since_prev_order'] = (\n",
    "    order_dates.groupby('customer_id')['date'].diff().dt.days\n",
    ")\n",
    "\n",
    "# Aggregate gap statistics\n",
    "gap_stats = order_dates.groupby('customer_id')['days_since_prev_order'].agg([\n",
    "    ('avg_days_between_orders', 'mean'),\n",
    "    ('std_days_between_orders', 'std'),\n",
    "    ('min_days_between_orders', 'min'),\n",
    "    ('max_days_between_orders', 'max')\n",
    "]).reset_index()\n",
    "\n",
    "customer_agg = customer_agg.merge(gap_stats, on='customer_id', how='left')\n",
    "\n",
    "# Fill NaN for single-order customers (no gaps to calculate)\n",
    "customer_agg['avg_days_between_orders'].fillna(999, inplace=True)  # 999 indicates single purchase\n",
    "customer_agg['std_days_between_orders'].fillna(0, inplace=True)\n",
    "customer_agg['min_days_between_orders'].fillna(0, inplace=True)\n",
    "customer_agg['max_days_between_orders'].fillna(0, inplace=True)"
   ]
  },
  {
   "cell_type": "code",
   "execution_count": 39,
   "id": "19fc43fe",
   "metadata": {},
   "outputs": [
    {
     "name": "stdout",
     "output_type": "stream",
     "text": [
      "Median days between orders: 9.0\n",
      "Regular buyers (std < 10 days): 83.3%\n"
     ]
    }
   ],
   "source": [
    "print(f\"Median days between orders: {customer_agg[customer_agg['avg_days_between_orders'] < 999]['avg_days_between_orders'].median():.1f}\")\n",
    "print(f\"Regular buyers (std < 10 days): {(customer_agg['std_days_between_orders'] < 10).mean():.1%}\")"
   ]
  },
  {
   "cell_type": "markdown",
   "id": "3c6bd2a6",
   "metadata": {},
   "source": [
    "These patterns are crucial for recommendation timing and churn prediction models\n",
    "\n",
    "- avg_days_between_orders: Identifies purchase cycle - useful for timing retention campaigns\n",
    "- std_days_between_orders: Low std = regular buyer (predictable), high std = sporadic buyer\n",
    "- max_days_between_orders: Helps set personalized churn thresholds per customer"
   ]
  },
  {
   "cell_type": "markdown",
   "id": "a86670d1",
   "metadata": {},
   "source": [
    "# Product and Category Intelligence"
   ]
  },
  {
   "cell_type": "markdown",
   "id": "282bb0bb",
   "metadata": {},
   "source": [
    "Merge sales with product information to understand WHAT customers buy - their category preferences, brand loyalties, and product diversity. This is essential for personalized recommendations."
   ]
  },
  {
   "cell_type": "code",
   "execution_count": 40,
   "id": "4bf4c1c6",
   "metadata": {},
   "outputs": [],
   "source": [
    "# Merge sales with product details\n",
    "sales_prod = sales.merge(\n",
    "    products[['product_id', 'brand', 'category_l0', 'category_l1', 'category_l2']], \n",
    "    on='product_id', \n",
    "    how='left'\n",
    ")\n",
    "\n",
    "# Handle missing values\n",
    "sales_prod['brand'].fillna('Unknown', inplace=True)\n",
    "for col in ['category_l0', 'category_l1', 'category_l2']:\n",
    "    sales_prod[col].fillna('Unknown', inplace=True)"
   ]
  },
  {
   "cell_type": "code",
   "execution_count": 41,
   "id": "4aa6ef8d",
   "metadata": {},
   "outputs": [
    {
     "name": "stdout",
     "output_type": "stream",
     "text": [
      "Calculating category and brand diversity...\n"
     ]
    }
   ],
   "source": [
    "# Calculate category and brand diversity\n",
    "print(\"Calculating category and brand diversity...\")\n",
    "diversity_stats = sales_prod.groupby('customer_id').agg({\n",
    "    'brand': 'nunique',\n",
    "    'category_l0': 'nunique',\n",
    "    'category_l1': 'nunique',\n",
    "    'category_l2': 'nunique'\n",
    "}).rename(columns={\n",
    "    'brand': 'unique_brands',\n",
    "    'category_l0': 'unique_l0_categories',\n",
    "    'category_l1': 'unique_l1_categories',\n",
    "    'category_l2': 'unique_l2_categories'\n",
    "})\n",
    "\n",
    "customer_agg = customer_agg.merge(diversity_stats, on='customer_id', how='left')"
   ]
  },
  {
   "cell_type": "code",
   "execution_count": 42,
   "id": "a993407f",
   "metadata": {},
   "outputs": [
    {
     "name": "stdout",
     "output_type": "stream",
     "text": [
      "Avg unique brands per customer: 10.8\n",
      "Customers buying from single category: 15.8%\n"
     ]
    }
   ],
   "source": [
    "print(f\"Avg unique brands per customer: {customer_agg['unique_brands'].mean():.1f}\")\n",
    "print(f\"Customers buying from single category: {(customer_agg['unique_l1_categories'] == 1).mean():.1%}\")"
   ]
  },
  {
   "cell_type": "markdown",
   "id": "e71dc52e",
   "metadata": {},
   "source": [
    "Essential for cross-sell strategies and understanding customer shopping behavior. Variety seekers and focused buyers have different churn patterns and require different retention strategies\n",
    "- unique_brands: High value = variety seeker, low = brand loyal\n",
    "- unique_categories: Indicates if customer has diverse needs or focused purchases"
   ]
  },
  {
   "cell_type": "markdown",
   "id": "8d5333c6",
   "metadata": {},
   "source": [
    "# Top Brand and Category Preferences"
   ]
  },
  {
   "cell_type": "markdown",
   "id": "c9eff20f",
   "metadata": {},
   "source": [
    "Identify the top 3 brands and categories for each customer. Instead of just counting diversity, we identify specific preferences. This is crucial for personalized product recommendations."
   ]
  },
  {
   "cell_type": "code",
   "execution_count": 43,
   "id": "5e78b771",
   "metadata": {},
   "outputs": [
    {
     "name": "stdout",
     "output_type": "stream",
     "text": [
      "Calculating top 3 brand preferences...\n"
     ]
    }
   ],
   "source": [
    "# TOP 3 BRANDS\n",
    "print(\"Calculating top 3 brand preferences...\")\n",
    "brand_counts = (sales_prod.groupby(['customer_id', 'brand'])\n",
    "                .size()\n",
    "                .reset_index(name='count'))\n",
    "\n",
    "brand_counts['rank'] = (brand_counts.groupby('customer_id')['count']\n",
    "                        .rank(method='dense', ascending=False))\n",
    "\n",
    "top_brands = brand_counts[brand_counts['rank'] <= 3].pivot_table(\n",
    "    index='customer_id',\n",
    "    columns='rank',\n",
    "    values='brand',\n",
    "    aggfunc='first'\n",
    ").reset_index()\n",
    "\n",
    "top_brands.columns = ['customer_id'] + [f'top_brand_{int(i)}' for i in top_brands.columns[1:]]"
   ]
  },
  {
   "cell_type": "code",
   "execution_count": 44,
   "id": "a1cd735b",
   "metadata": {},
   "outputs": [
    {
     "name": "stdout",
     "output_type": "stream",
     "text": [
      "Calculating top 3 category preferences...\n"
     ]
    }
   ],
   "source": [
    "# TOP 3 CATEGORIES (L1 level - most useful)\n",
    "print(\"Calculating top 3 category preferences...\")\n",
    "cat_counts = (sales_prod.groupby(['customer_id', 'category_l1'])\n",
    "             .size()\n",
    "             .reset_index(name='count'))\n",
    "\n",
    "cat_counts['rank'] = (cat_counts.groupby('customer_id')['count']\n",
    "                      .rank(method='dense', ascending=False))\n",
    "\n",
    "top_cats = cat_counts[cat_counts['rank'] <= 3].pivot_table(\n",
    "    index='customer_id',\n",
    "    columns='rank',\n",
    "    values='category_l1',\n",
    "    aggfunc='first'\n",
    ").reset_index()\n",
    "\n",
    "top_cats.columns = ['customer_id'] + [f'top_category_{int(i)}' for i in top_cats.columns[1:]]"
   ]
  },
  {
   "cell_type": "code",
   "execution_count": 45,
   "id": "7de4e94c",
   "metadata": {},
   "outputs": [
    {
     "name": "stdout",
     "output_type": "stream",
     "text": [
      "Calculating top 3 product preferences...\n"
     ]
    }
   ],
   "source": [
    "# TOP 3 PRODUCTS\n",
    "print(\"Calculating top 3 product preferences...\")\n",
    "product_counts = (sales_prod.groupby(['customer_id', 'product_id'])\n",
    "                 .agg({'quantity': 'sum'})\n",
    "                 .reset_index())\n",
    "\n",
    "product_counts['rank'] = (product_counts.groupby('customer_id')['quantity']\n",
    "                          .rank(method='dense', ascending=False))\n",
    "\n",
    "top_products = product_counts[product_counts['rank'] <= 3].pivot_table(\n",
    "    index='customer_id',\n",
    "    columns='rank',\n",
    "    values='product_id',\n",
    "    aggfunc='first'\n",
    ").reset_index()\n",
    "\n",
    "top_products.columns = ['customer_id'] + [f'top_product_{int(i)}' for i in top_products.columns[1:]]"
   ]
  },
  {
   "cell_type": "code",
   "execution_count": 46,
   "id": "69ab2c90",
   "metadata": {},
   "outputs": [],
   "source": [
    "# Merge all preferences\n",
    "customer_agg = customer_agg.merge(top_brands, on='customer_id', how='left')\n",
    "customer_agg = customer_agg.merge(top_cats, on='customer_id', how='left')\n",
    "customer_agg = customer_agg.merge(top_products, on='customer_id', how='left')\n",
    "\n",
    "# Fill missing values\n",
    "for col in customer_agg.columns:\n",
    "    if 'top_brand' in col or 'top_category' in col:\n",
    "        customer_agg[col].fillna('Unknown', inplace=True)\n",
    "    elif 'top_product' in col:\n",
    "        customer_agg[col].fillna(-1, inplace=True)"
   ]
  },
  {
   "cell_type": "code",
   "execution_count": 47,
   "id": "af53e054",
   "metadata": {},
   "outputs": [
    {
     "name": "stdout",
     "output_type": "stream",
     "text": [
      "Most popular brand: Unknown\n",
      "Most popular category: Fresh Vegetables\n"
     ]
    }
   ],
   "source": [
    "print(f\"Most popular brand: {customer_agg['top_brand_1'].value_counts().head(1).index[0]}\")\n",
    "print(f\"Most popular category: {customer_agg['top_category_1'].value_counts().head(1).index[0]}\")"
   ]
  },
  {
   "cell_type": "markdown",
   "id": "19b9ae66",
   "metadata": {},
   "source": [
    "Having top 3 instead of just top 1 captures backup preferences when primary choice is unavailable\n",
    "- top_brand_1/2/3: Enables brand-based recommendations and identifies brand loyalty\n",
    "- top_category_1/2/3: Critical for cross-category recommendations\n",
    "- top_product_1/2/3: Identifies repeat purchase products for replenishment reminders"
   ]
  },
  {
   "cell_type": "markdown",
   "id": "1d807f34",
   "metadata": {},
   "source": [
    "# Loyalty and Concentration Scores"
   ]
  },
  {
   "cell_type": "markdown",
   "id": "8378c343",
   "metadata": {},
   "source": [
    "Calculate how loyal or focused customers are to their favorite brands/categories. A customer buying 80% from one brand is very different from one spreading purchases across 10 brands."
   ]
  },
  {
   "cell_type": "code",
   "execution_count": 48,
   "id": "45b5d818",
   "metadata": {},
   "outputs": [],
   "source": [
    "# Brand loyalty score (% of purchases from top brand)\n",
    "brand_loyalty = brand_counts[brand_counts['rank'] == 1].copy()\n",
    "total_brand_purchases = brand_counts.groupby('customer_id')['count'].sum()\n",
    "brand_loyalty['brand_loyalty_score'] = (\n",
    "    brand_loyalty.set_index('customer_id')['count'] / total_brand_purchases * 100\n",
    ").values\n",
    "brand_loyalty = brand_loyalty[['customer_id', 'brand_loyalty_score']]"
   ]
  },
  {
   "cell_type": "code",
   "execution_count": 49,
   "id": "0b14b9a4",
   "metadata": {},
   "outputs": [],
   "source": [
    "# Category focus score (% from top category)\n",
    "cat_focus = cat_counts[cat_counts['rank'] == 1].copy()\n",
    "total_cat_purchases = cat_counts.groupby('customer_id')['count'].sum()\n",
    "cat_focus['category_focus_score'] = (\n",
    "    cat_focus.set_index('customer_id')['count'] / total_cat_purchases * 100\n",
    ").values\n",
    "cat_focus = cat_focus[['customer_id', 'category_focus_score']]"
   ]
  },
  {
   "cell_type": "code",
   "execution_count": 50,
   "id": "7f3397b2",
   "metadata": {},
   "outputs": [],
   "source": [
    "# Product loyalty (how often they repeat products)\n",
    "product_repeat = sales_prod.groupby('customer_id')['product_id'].apply(\n",
    "    lambda x: (x.value_counts() > 1).sum() / x.nunique() * 100 if x.nunique() > 0 else 0\n",
    ").reset_index(name='product_repeat_rate')"
   ]
  },
  {
   "cell_type": "code",
   "execution_count": 51,
   "id": "58e834b2",
   "metadata": {},
   "outputs": [],
   "source": [
    "# Merge loyalty scores\n",
    "customer_agg = customer_agg.merge(brand_loyalty, on='customer_id', how='left')\n",
    "customer_agg = customer_agg.merge(cat_focus, on='customer_id', how='left')\n",
    "customer_agg = customer_agg.merge(product_repeat, on='customer_id', how='left')\n",
    "\n",
    "# Fill NaN with 0\n",
    "for col in ['brand_loyalty_score', 'category_focus_score', 'product_repeat_rate']:\n",
    "    customer_agg[col].fillna(0, inplace=True)\n"
   ]
  },
  {
   "cell_type": "code",
   "execution_count": 52,
   "id": "4a3f8ac7",
   "metadata": {},
   "outputs": [
    {
     "name": "stdout",
     "output_type": "stream",
     "text": [
      "Avg brand loyalty: 29.8%\n",
      "Highly loyal customers (>80%): 5.1%\n",
      "Variety seekers (<30%): 63.0%\n"
     ]
    }
   ],
   "source": [
    "print(f\"Avg brand loyalty: {customer_agg['brand_loyalty_score'].mean():.1f}%\")\n",
    "print(f\"Highly loyal customers (>80%): {(customer_agg['brand_loyalty_score'] > 80).mean():.1%}\")\n",
    "print(f\"Variety seekers (<30%): {(customer_agg['brand_loyalty_score'] < 30).mean():.1%}\")"
   ]
  },
  {
   "cell_type": "markdown",
   "id": "71fed133",
   "metadata": {},
   "source": [
    "These scores are crucial for segmentation and personalization strategies\n",
    "- brand_loyalty_score: High loyalty customers need different retention strategies than variety seekers\n",
    "- category_focus_score: Focused buyers are easier to predict and recommend to\n",
    "- product_repeat_rate: High repeat rate indicates habitual buying - good for subscription models"
   ]
  },
  {
   "cell_type": "markdown",
   "id": "06ed05fd",
   "metadata": {},
   "source": [
    "# Financial Ratios and Metrics"
   ]
  },
  {
   "cell_type": "markdown",
   "id": "35fac48e",
   "metadata": {},
   "source": [
    "Calculate profitability ratios and discount usage patterns. Understanding price sensitivity and profit contribution helps prioritize which customers to retain."
   ]
  },
  {
   "cell_type": "code",
   "execution_count": 53,
   "id": "dda281ff",
   "metadata": {},
   "outputs": [],
   "source": [
    "# Profit margin per customer\n",
    "customer_agg['profit_margin'] = (\n",
    "    customer_agg['total_profit'] / customer_agg['total_revenue'].replace(0, np.nan)\n",
    ") * 100\n",
    "\n",
    "# Discount usage ratio\n",
    "customer_agg['discount_ratio'] = (\n",
    "    customer_agg['total_discount'] / customer_agg['total_revenue'].replace(0, np.nan)\n",
    ") * 100"
   ]
  },
  {
   "cell_type": "code",
   "execution_count": 54,
   "id": "75dfeefe",
   "metadata": {},
   "outputs": [],
   "source": [
    "# Fill NaN with 0\n",
    "customer_agg['profit_margin'].fillna(0, inplace=True)\n",
    "customer_agg['discount_ratio'].fillna(0, inplace=True)"
   ]
  },
  {
   "cell_type": "code",
   "execution_count": 55,
   "id": "c0479537",
   "metadata": {},
   "outputs": [],
   "source": [
    "# Price segment classification\n",
    "def assign_price_segment(price):\n",
    "    if price < 50: return 'budget'\n",
    "    elif price < 150: return 'mid_range'\n",
    "    elif price < 500: return 'premium'\n",
    "    else: return 'luxury'\n",
    "\n",
    "customer_agg['price_segment'] = customer_agg['avg_price_point'].apply(assign_price_segment)"
   ]
  },
  {
   "cell_type": "code",
   "execution_count": 56,
   "id": "0f6cc636",
   "metadata": {},
   "outputs": [
    {
     "name": "stdout",
     "output_type": "stream",
     "text": [
      "Average profit margin: 3.1%\n",
      "Customers never using discounts: 83.8%\n",
      "\n",
      "Price segment distribution:\n",
      "price_segment\n",
      "mid_range    4375033\n",
      "premium      1525381\n",
      "budget       1037665\n",
      "luxury         31782\n",
      "Name: count, dtype: int64\n"
     ]
    }
   ],
   "source": [
    "print(f\"Average profit margin: {customer_agg['profit_margin'].mean():.1f}%\")\n",
    "print(f\"Customers never using discounts: {(customer_agg['discount_ratio'] == 0).mean():.1%}\")\n",
    "print(\"\\nPrice segment distribution:\")\n",
    "print(customer_agg['price_segment'].value_counts())"
   ]
  },
  {
   "cell_type": "markdown",
   "id": "36a46df2",
   "metadata": {},
   "source": [
    "Critical for ROI-based retention strategies and pricing optimization\n",
    "- profit_margin: Identifies most valuable customers to retain\n",
    "- discount_ratio: High ratio = price-sensitive, needs discounts to purchase\n",
    "- price_segment: Helps target right products at right price points"
   ]
  },
  {
   "cell_type": "markdown",
   "id": "97072067",
   "metadata": {},
   "source": [
    "#  Discount Behavior Analysis"
   ]
  },
  {
   "cell_type": "markdown",
   "id": "3ca285be",
   "metadata": {},
   "source": [
    "Analyze how customers respond to discounts. Some customers only buy on sale, others buy regardless. This helps design effective promotional strategies."
   ]
  },
  {
   "cell_type": "code",
   "execution_count": 57,
   "id": "ba45e0b1",
   "metadata": {},
   "outputs": [],
   "source": [
    "# Calculate discount percentage for each transaction\n",
    "sales_prod['discount_pct'] = (\n",
    "    sales_prod['discount'] / sales_prod['revenue'].replace(0, np.nan)\n",
    ") * 100\n",
    "\n",
    "# Analyze purchase patterns at different discount levels\n",
    "discount_patterns = sales_prod.groupby('customer_id').apply(\n",
    "    lambda x: pd.Series({\n",
    "        'no_discount_purchase_pct': (x['discount_pct'].fillna(0) == 0).mean() * 100,\n",
    "        'small_discount_pct': ((x['discount_pct'] > 0) & (x['discount_pct'] <= 10)).mean() * 100,\n",
    "        'medium_discount_pct': ((x['discount_pct'] > 10) & (x['discount_pct'] <= 20)).mean() * 100,\n",
    "        'high_discount_pct': (x['discount_pct'] > 20).mean() * 100,\n",
    "        'avg_discount_needed': x[x['discount_pct'] > 0]['discount_pct'].mean() if (x['discount_pct'] > 0).any() else 0,\n",
    "        'discount_sensitivity': x['discount_pct'].std() if len(x) > 1 else 0\n",
    "    })\n",
    ").reset_index()"
   ]
  },
  {
   "cell_type": "code",
   "execution_count": 58,
   "id": "ea3dcd98",
   "metadata": {},
   "outputs": [],
   "source": [
    "customer_agg = customer_agg.merge(discount_patterns, on='customer_id', how='left')\n",
    "\n",
    "# Fill NaN\n",
    "for col in discount_patterns.columns:\n",
    "    if col != 'customer_id':\n",
    "        customer_agg[col].fillna(0, inplace=True)"
   ]
  },
  {
   "cell_type": "code",
   "execution_count": 59,
   "id": "b5127f80",
   "metadata": {},
   "outputs": [
    {
     "name": "stdout",
     "output_type": "stream",
     "text": [
      "Pure full-price buyers (never use discount): 83.9%\n",
      "Discount dependent (>50% purchases with discount): 11.4%\n",
      "Average discount needed to trigger purchase: 15.6%\n"
     ]
    }
   ],
   "source": [
    "print(f\"Pure full-price buyers (never use discount): {(customer_agg['no_discount_purchase_pct'] == 100).mean():.1%}\")\n",
    "print(f\"Discount dependent (>50% purchases with discount): {(customer_agg['no_discount_purchase_pct'] < 50).mean():.1%}\")\n",
    "print(f\"Average discount needed to trigger purchase: {customer_agg['avg_discount_needed'].mean():.1f}%\")"
   ]
  },
  {
   "cell_type": "markdown",
   "id": "f56a01fb",
   "metadata": {},
   "source": [
    "Essential for designing personalized promotions and maximizing profit margins\n",
    "- no_discount_purchase_pct: Identifies price-insensitive customers (most profitable)\n",
    "- high_discount_pct: Flags bargain hunters who wait for sales\n",
    "- discount_sensitivity: High variability suggests strategic buying behavior"
   ]
  },
  {
   "cell_type": "markdown",
   "id": "3d8cee6f",
   "metadata": {},
   "source": [
    "# Cross-Category Shopping Patterns"
   ]
  },
  {
   "cell_type": "markdown",
   "id": "0f9ac214",
   "metadata": {},
   "source": [
    "Analyze how customers shop across categories. Do they buy from multiple categories in one order (one-stop shoppers) or focused purchases? This reveals shopping mission types."
   ]
  },
  {
   "cell_type": "code",
   "execution_count": 60,
   "id": "19ec814b",
   "metadata": {},
   "outputs": [],
   "source": [
    "# Calculate categories per order\n",
    "order_complexity = sales_prod.groupby(['customer_id', 'order_id']).agg({\n",
    "    'category_l1': 'nunique',\n",
    "    'brand': 'nunique',\n",
    "    'product_id': 'nunique',\n",
    "    'quantity': 'sum'\n",
    "}).reset_index()"
   ]
  },
  {
   "cell_type": "code",
   "execution_count": 61,
   "id": "9fdf8e4b",
   "metadata": {},
   "outputs": [],
   "source": [
    "# Aggregate to customer level\n",
    "cross_category = order_complexity.groupby('customer_id').agg({\n",
    "    'category_l1': ['mean', 'max'],\n",
    "    'brand': ['mean', 'max'],\n",
    "    'product_id': ['mean', 'max'],\n",
    "    'quantity': ['mean', 'max']\n",
    "}).reset_index()\n",
    "\n",
    "cross_category.columns = ['customer_id', \n",
    "                          'avg_categories_per_order', 'max_categories_per_order',\n",
    "                          'avg_brands_per_order', 'max_brands_per_order',\n",
    "                          'avg_products_per_order', 'max_products_per_order',\n",
    "                          'avg_items_per_order', 'max_items_per_order']"
   ]
  },
  {
   "cell_type": "code",
   "execution_count": 62,
   "id": "bac692af",
   "metadata": {},
   "outputs": [],
   "source": [
    "# Calculate percentage of multi-category orders\n",
    "multi_cat = order_complexity.groupby('customer_id').apply(\n",
    "    lambda x: pd.Series({\n",
    "        'single_category_orders_pct': (x['category_l1'] == 1).mean() * 100,\n",
    "        'multi_category_orders_pct': (x['category_l1'] > 1).mean() * 100,\n",
    "        'bulk_orders_pct': (x['quantity'] > 10).mean() * 100\n",
    "    })\n",
    ").reset_index()"
   ]
  },
  {
   "cell_type": "code",
   "execution_count": 63,
   "id": "f08767ed",
   "metadata": {},
   "outputs": [],
   "source": [
    "# Merge\n",
    "customer_agg = customer_agg.merge(cross_category, on='customer_id', how='left')\n",
    "customer_agg = customer_agg.merge(multi_cat, on='customer_id', how='left')"
   ]
  },
  {
   "cell_type": "code",
   "execution_count": 64,
   "id": "6e56d12d",
   "metadata": {},
   "outputs": [
    {
     "name": "stdout",
     "output_type": "stream",
     "text": [
      "Avg categories per order: 3.61\n",
      "One-stop shoppers (>50% multi-category): 76.1%\n",
      "Bulk buyers (>50% bulk orders): 6.6%\n"
     ]
    }
   ],
   "source": [
    "print(f\"Avg categories per order: {customer_agg['avg_categories_per_order'].mean():.2f}\")\n",
    "print(f\"One-stop shoppers (>50% multi-category): {(customer_agg['multi_category_orders_pct'] > 50).mean():.1%}\")\n",
    "print(f\"Bulk buyers (>50% bulk orders): {(customer_agg['bulk_orders_pct'] > 50).mean():.1%}\")"
   ]
  },
  {
   "cell_type": "markdown",
   "id": "369ae402",
   "metadata": {},
   "source": [
    "Critical for basket optimization and cross-category recommendations\n",
    "- avg_categories_per_order: High value = one-stop shopper, good for cross-sell\n",
    "- multi_category_orders_pct: Indicates convenience shoppers vs. focused buyers\n",
    "- bulk_orders_pct: Identifies wholesale/business customers vs. retail"
   ]
  },
  {
   "cell_type": "markdown",
   "id": "07591819",
   "metadata": {},
   "source": [
    "# Price Range Preferences"
   ]
  },
  {
   "cell_type": "markdown",
   "id": "174f4abe",
   "metadata": {},
   "source": [
    "Identify which price ranges customers are comfortable with. Some customers consistently buy premium, others hunt for bargains. This helps price product recommendations appropriately."
   ]
  },
  {
   "cell_type": "code",
   "execution_count": 65,
   "id": "ed068ef7",
   "metadata": {},
   "outputs": [],
   "source": [
    "# Create price range buckets\n",
    "sales_prod['price_range'] = pd.cut(\n",
    "    sales_prod['unit_price'],\n",
    "    bins=[0, 50, 100, 250, 500, 1000, float('inf')],\n",
    "    labels=['0-50', '50-100', '100-250', '250-500', '500-1000', '1000+']\n",
    ")"
   ]
  },
  {
   "cell_type": "code",
   "execution_count": 66,
   "id": "be7ab8d5",
   "metadata": {},
   "outputs": [],
   "source": [
    "# Calculate top 3 price ranges per customer\n",
    "price_counts = (sales_prod.groupby(['customer_id', 'price_range'])\n",
    "               .size()\n",
    "               .reset_index(name='count'))\n",
    "\n",
    "price_counts['rank'] = (price_counts.groupby('customer_id')['count']\n",
    "                        .rank(method='dense', ascending=False))\n",
    "\n",
    "top_price_ranges = price_counts[price_counts['rank'] <= 3].pivot_table(\n",
    "    index='customer_id',\n",
    "    columns='rank',\n",
    "    values='price_range',\n",
    "    aggfunc='first'\n",
    ").reset_index()\n",
    "\n",
    "top_price_ranges.columns = ['customer_id'] + [f'top_price_range_{int(i)}' for i in top_price_ranges.columns[1:]]"
   ]
  },
  {
   "cell_type": "code",
   "execution_count": 67,
   "id": "6000d3ed",
   "metadata": {},
   "outputs": [],
   "source": [
    "# Price volatility (how much price varies)\n",
    "price_consistency = sales_prod.groupby('customer_id')['unit_price'].agg([\n",
    "    ('price_variance', 'var'),\n",
    "    ('price_cv', lambda x: x.std() / x.mean() if x.mean() > 0 else 0)  # Coefficient of variation\n",
    "]).reset_index()"
   ]
  },
  {
   "cell_type": "code",
   "execution_count": 68,
   "id": "74008d74",
   "metadata": {},
   "outputs": [],
   "source": [
    "# Merge\n",
    "customer_agg = customer_agg.merge(top_price_ranges, on='customer_id', how='left')\n",
    "customer_agg = customer_agg.merge(price_consistency, on='customer_id', how='left')\n",
    "\n",
    "# Fill missing\n",
    "for col in customer_agg.columns:\n",
    "    if 'top_price_range' in col:\n",
    "        # Convert categorical to string type before filling\n",
    "        customer_agg[col] = customer_agg[col].astype('object')\n",
    "        customer_agg[col].fillna('Unknown', inplace=True)\n",
    "\n",
    "customer_agg['price_variance'].fillna(0, inplace=True)\n",
    "customer_agg['price_cv'].fillna(0, inplace=True)"
   ]
  },
  {
   "cell_type": "code",
   "execution_count": 69,
   "id": "89c6a2b6",
   "metadata": {},
   "outputs": [
    {
     "name": "stdout",
     "output_type": "stream",
     "text": [
      "Most common price range: 0-50\n",
      "Price consistent customers (CV < 0.5): 22.8%\n"
     ]
    }
   ],
   "source": [
    "print(f\"Most common price range: {customer_agg['top_price_range_1'].value_counts().head(1).index[0]}\")\n",
    "print(f\"Price consistent customers (CV < 0.5): {(customer_agg['price_cv'] < 0.5).mean():.1%}\")"
   ]
  },
  {
   "cell_type": "markdown",
   "id": "3b789f8c",
   "metadata": {},
   "source": [
    "Critical for price optimization in recommendations\n",
    "\n",
    "- top_price_range_1/2/3: Ensures recommendations match customer's budget\n",
    "- price_variance: Low variance = predictable spending, high = varies by need\n",
    "- price_cv: Identifies price-experimental customers vs. consistent spenders\n"
   ]
  },
  {
   "cell_type": "markdown",
   "id": "7c8297ed",
   "metadata": {},
   "source": [
    "# Purchase Velocity and Trends"
   ]
  },
  {
   "cell_type": "markdown",
   "id": "7d30c670",
   "metadata": {},
   "source": [
    "Calculate how customer behavior changes over time. Are they buying more frequently or slowing down? This is crucial for early churn detection."
   ]
  },
  {
   "cell_type": "code",
   "execution_count": 70,
   "id": "e28ddfc6",
   "metadata": {},
   "outputs": [],
   "source": [
    "# Purchase velocity (orders per day)\n",
    "customer_agg['purchase_velocity'] = (\n",
    "    customer_agg['total_orders'] / (customer_agg['customer_lifetime_days'] + 1)\n",
    ")\n",
    "\n",
    "# Purchase acceleration (comparing first vs last period)\n",
    "def calculate_purchase_trend(customer_data):\n",
    "    \"\"\"Compare purchase frequency in first half vs second half of customer lifetime\"\"\"\n",
    "    customer_data = customer_data.sort_values('date')\n",
    "    \n",
    "    if len(customer_data) < 3:  # Need minimum data\n",
    "        return 0\n",
    "    \n",
    "    mid_point = len(customer_data) // 2\n",
    "    first_half = customer_data.iloc[:mid_point]\n",
    "    second_half = customer_data.iloc[mid_point:]\n",
    "    \n",
    "    # Orders in each half\n",
    "    first_orders = first_half['order_id'].nunique()\n",
    "    second_orders = second_half['order_id'].nunique()\n",
    "    \n",
    "    # Days in each period\n",
    "    first_days = (first_half['date'].max() - first_half['date'].min()).days + 1\n",
    "    second_days = (second_half['date'].max() - second_half['date'].min()).days + 1\n",
    "    \n",
    "    if first_days > 0 and second_days > 0:\n",
    "        first_velocity = first_orders / first_days\n",
    "        second_velocity = second_orders / second_days\n",
    "        \n",
    "        # Calculate trend\n",
    "        if second_velocity > first_velocity * 1.2:\n",
    "            return 1  # Accelerating\n",
    "        elif second_velocity < first_velocity * 0.8:\n",
    "            return -1  # Declining\n",
    "    \n",
    "    return 0  # Stable"
   ]
  },
  {
   "cell_type": "code",
   "execution_count": 71,
   "id": "9527c91f",
   "metadata": {},
   "outputs": [
    {
     "name": "stdout",
     "output_type": "stream",
     "text": [
      "Computing trends (this may take a minute)...\n"
     ]
    }
   ],
   "source": [
    "# Apply trend calculation\n",
    "print(\"Computing trends (this may take a minute)...\")\n",
    "purchase_trends = sales.groupby('customer_id').apply(calculate_purchase_trend).reset_index()\n",
    "purchase_trends.columns = ['customer_id', 'purchase_trend']\n",
    "\n",
    "# Revenue trend (is spend increasing or decreasing)\n",
    "revenue_trends = sales.groupby('customer_id').apply(\n",
    "    lambda x: 1 if x.iloc[len(x)//2:]['revenue'].sum() > x.iloc[:len(x)//2]['revenue'].sum() else -1\n",
    ").reset_index(name='revenue_trend')"
   ]
  },
  {
   "cell_type": "code",
   "execution_count": 72,
   "id": "8650035e",
   "metadata": {},
   "outputs": [],
   "source": [
    "# Merge trends\n",
    "customer_agg = customer_agg.merge(purchase_trends, on='customer_id', how='left')\n",
    "customer_agg = customer_agg.merge(revenue_trends, on='customer_id', how='left')\n",
    "\n",
    "customer_agg['purchase_trend'].fillna(0, inplace=True)\n",
    "customer_agg['revenue_trend'].fillna(0, inplace=True)"
   ]
  },
  {
   "cell_type": "code",
   "execution_count": 73,
   "id": "2a912275",
   "metadata": {},
   "outputs": [
    {
     "name": "stdout",
     "output_type": "stream",
     "text": [
      "Accelerating customers: 16.3%\n",
      "Declining customers: 26.5%\n",
      "Stable customers: 57.2%\n"
     ]
    }
   ],
   "source": [
    "print(f\"Accelerating customers: {(customer_agg['purchase_trend'] == 1).mean():.1%}\")\n",
    "print(f\"Declining customers: {(customer_agg['purchase_trend'] == -1).mean():.1%}\")\n",
    "print(f\"Stable customers: {(customer_agg['purchase_trend'] == 0).mean():.1%}\")"
   ]
  },
  {
   "cell_type": "markdown",
   "id": "12720d58",
   "metadata": {},
   "source": [
    "These are among the strongest predictors for churn models\n",
    "\n",
    "- purchase_velocity: Fast velocity = engaged customer\n",
    "- purchase_trend: Declining trend is early warning sign of churn\n",
    "- revenue_trend: Even if frequency stable, declining spend indicates dissatisfaction"
   ]
  },
  {
   "cell_type": "markdown",
   "id": "bcee3a95",
   "metadata": {},
   "source": [
    "# RFM Scoring System"
   ]
  },
  {
   "cell_type": "markdown",
   "id": "5c92df1c",
   "metadata": {},
   "source": [
    "Create standardized RFM (Recency, Frequency, Monetary) scores on a 1-5 scale. This classic framework enables customer segmentation and is widely used in retail analytics."
   ]
  },
  {
   "cell_type": "code",
   "execution_count": 74,
   "id": "9d698fe4",
   "metadata": {},
   "outputs": [],
   "source": [
    "# Recency: Lower is better (5 = most recent)\n",
    "customer_agg['recency_score'] = pd.qcut(\n",
    "    customer_agg['recency_days'], \n",
    "    q=5, \n",
    "    labels=[5, 4, 3, 2, 1],\n",
    "    duplicates='drop'\n",
    ").astype(int)"
   ]
  },
  {
   "cell_type": "code",
   "execution_count": 75,
   "id": "9802b207",
   "metadata": {},
   "outputs": [],
   "source": [
    "# Frequency: Higher is better (5 = most frequent)\n",
    "customer_agg['frequency_score'] = pd.qcut(\n",
    "    customer_agg['frequency'].rank(method='first'), \n",
    "    q=5,\n",
    "    labels=[1, 2, 3, 4, 5],\n",
    "    duplicates='drop'\n",
    ").astype(int)"
   ]
  },
  {
   "cell_type": "code",
   "execution_count": 76,
   "id": "4d9e6b87",
   "metadata": {},
   "outputs": [],
   "source": [
    "# Monetary: Higher is better (5 = highest value)\n",
    "customer_agg['monetary_score'] = pd.qcut(\n",
    "    customer_agg['monetary'].rank(method='first'), \n",
    "    q=5,\n",
    "    labels=[1, 2, 3, 4, 5],\n",
    "    duplicates='drop'\n",
    ").astype(int)\n"
   ]
  },
  {
   "cell_type": "code",
   "execution_count": 77,
   "id": "45bb5a0c",
   "metadata": {},
   "outputs": [],
   "source": [
    "# Combined RFM score (3-15 range)\n",
    "customer_agg['rfm_score'] = (\n",
    "    customer_agg['recency_score'] + \n",
    "    customer_agg['frequency_score'] + \n",
    "    customer_agg['monetary_score']\n",
    ")\n",
    "\n",
    "# RFM segment code (e.g., \"555\" = best customers)\n",
    "customer_agg['rfm_segment_code'] = (\n",
    "    customer_agg['recency_score'].astype(str) +\n",
    "    customer_agg['frequency_score'].astype(str) +\n",
    "    customer_agg['monetary_score'].astype(str)\n",
    ")"
   ]
  },
  {
   "cell_type": "code",
   "execution_count": 78,
   "id": "d554ed29",
   "metadata": {},
   "outputs": [
    {
     "name": "stdout",
     "output_type": "stream",
     "text": [
      "Champions (555): 412,062 customers\n",
      "At Risk (255): 52,332 customers\n",
      "Lost (111): 113,272 customers\n",
      "\n",
      "RFM Score distribution:\n",
      "rfm_score\n",
      "3     113272\n",
      "4     398278\n",
      "5     635944\n",
      "6     712091\n",
      "7     691944\n",
      "8     688026\n",
      "9     709360\n",
      "10    652117\n",
      "11    585191\n",
      "12    534046\n",
      "13    443201\n",
      "14    394329\n",
      "15    412062\n",
      "Name: count, dtype: int64\n"
     ]
    }
   ],
   "source": [
    "print(f\"Champions (555): {(customer_agg['rfm_segment_code'] == '555').sum():,} customers\")\n",
    "print(f\"At Risk (255): {(customer_agg['rfm_segment_code'] == '255').sum():,} customers\")\n",
    "print(f\"Lost (111): {(customer_agg['rfm_segment_code'] == '111').sum():,} customers\")\n",
    "print(f\"\\nRFM Score distribution:\")\n",
    "print(customer_agg['rfm_score'].value_counts().sort_index())"
   ]
  },
  {
   "cell_type": "markdown",
   "id": "bfceae04",
   "metadata": {},
   "source": [
    "Champions (555) need different treatment than At-Risk (255) customers. Foundation for customer segmentation strategies.\n",
    "\n",
    "- RFM scores: Industry-standard framework for customer value assessment\n",
    "- rfm_segment_code: Enables creation of 125 micro-segments for targeted marketing"
   ]
  },
  {
   "cell_type": "markdown",
   "id": "777a35c8",
   "metadata": {},
   "source": [
    "# Advanced Behavioral Scores"
   ]
  },
  {
   "cell_type": "markdown",
   "id": "9e509a49",
   "metadata": {},
   "source": [
    "Create composite scores that combine multiple features into meaningful behavioral indicators. These help quickly identify customer types for business actions."
   ]
  },
  {
   "cell_type": "code",
   "execution_count": 79,
   "id": "8e8d4726",
   "metadata": {},
   "outputs": [],
   "source": [
    "# Customer Lifetime Value (projected annual)\n",
    "customer_agg['clv_predicted'] = (\n",
    "    customer_agg['total_revenue'] / \n",
    "    (customer_agg['customer_lifetime_days'] + 1) * 365\n",
    ")\n",
    "\n",
    "# Product diversity score\n",
    "customer_agg['product_diversity_score'] = (\n",
    "    customer_agg['unique_products'] / customer_agg['total_orders']\n",
    ")"
   ]
  },
  {
   "cell_type": "code",
   "execution_count": 80,
   "id": "c6d2f539",
   "metadata": {},
   "outputs": [],
   "source": [
    "# Bargain hunter score (0-100)\n",
    "median_price = customer_agg['avg_price_point'].median()\n",
    "customer_agg['bargain_hunter_score'] = (\n",
    "    ((customer_agg['avg_price_point'] < median_price) * 30) +  # Below median price\n",
    "    ((customer_agg['high_discount_pct'] > 30) * 40) +  # Often uses high discounts\n",
    "    ((customer_agg['no_discount_purchase_pct'] < 20) * 30)  # Rarely buys without discount\n",
    ")"
   ]
  },
  {
   "cell_type": "code",
   "execution_count": 81,
   "id": "556b754c",
   "metadata": {},
   "outputs": [],
   "source": [
    "# Premium buyer score (0-100)\n",
    "customer_agg['premium_buyer_score'] = (\n",
    "    ((customer_agg['avg_price_point'] > median_price * 2) * 40) +  # High price point\n",
    "    ((customer_agg['price_segment'] == 'luxury') * 30) +\n",
    "    ((customer_agg['no_discount_purchase_pct'] > 80) * 30)  # Rarely uses discounts\n",
    ")"
   ]
  },
  {
   "cell_type": "code",
   "execution_count": 82,
   "id": "f2a474f0",
   "metadata": {},
   "outputs": [],
   "source": [
    "# Engagement score (0-100)\n",
    "customer_agg['engagement_score'] = (\n",
    "    ((customer_agg['orders_last_30d'] > 0) * 30) +  # Recent activity\n",
    "    ((customer_agg['unique_l1_categories'] > customer_agg['unique_l1_categories'].median()) * 20) +  # Diverse interests\n",
    "    ((customer_agg['purchase_trend'] == 1) * 30) +  # Accelerating\n",
    "    ((customer_agg['multi_category_orders_pct'] > 50) * 20)  # Cross-category shopping\n",
    ")"
   ]
  },
  {
   "cell_type": "code",
   "execution_count": 83,
   "id": "ad4d20ae",
   "metadata": {},
   "outputs": [
    {
     "name": "stdout",
     "output_type": "stream",
     "text": [
      "Average predicted CLV: $114457.30\n",
      "Bargain hunters (score > 70): 3.4%\n",
      "Premium buyers (score > 70): 0.4%\n",
      "Highly engaged (score > 70): 8.4%\n"
     ]
    }
   ],
   "source": [
    "print(f\"Average predicted CLV: ${customer_agg['clv_predicted'].mean():.2f}\")\n",
    "print(f\"Bargain hunters (score > 70): {(customer_agg['bargain_hunter_score'] > 70).mean():.1%}\")\n",
    "print(f\"Premium buyers (score > 70): {(customer_agg['premium_buyer_score'] > 70).mean():.1%}\")\n",
    "print(f\"Highly engaged (score > 70): {(customer_agg['engagement_score'] > 70).mean():.1%}\")"
   ]
  },
  {
   "cell_type": "markdown",
   "id": "1305ef4b",
   "metadata": {},
   "source": [
    "- clv_predicted: Prioritize retention efforts on high-CLV customers\n",
    "- bargain_hunter_score: These customers need discounts to convert\n",
    "- premium_buyer_score: Can market high-margin products to these customers\n",
    "- engagement_score: Composite metric for overall customer health"
   ]
  },
  {
   "cell_type": "markdown",
   "id": "f9508d6e",
   "metadata": {},
   "source": [
    "# Churn Risk Indicators"
   ]
  },
  {
   "cell_type": "markdown",
   "id": "f9628092",
   "metadata": {},
   "source": [
    "Create churn labels and risk scores. This is our target variable for supervised learning and helps prioritize retention efforts."
   ]
  },
  {
   "cell_type": "code",
   "execution_count": 84,
   "id": "b8cf223a",
   "metadata": {},
   "outputs": [],
   "source": [
    "# Binary churn label (60-day threshold)\n",
    "CHURN_THRESHOLD = 60\n",
    "customer_agg['is_churned'] = (\n",
    "    customer_agg['recency_days'] > CHURN_THRESHOLD\n",
    ").astype(int)\n",
    "\n",
    "# Churn risk score (0-1 continuous)\n",
    "customer_agg['churn_risk_score'] = (\n",
    "    customer_agg['recency_days'] / CHURN_THRESHOLD\n",
    ").clip(0, 1)"
   ]
  },
  {
   "cell_type": "code",
   "execution_count": 85,
   "id": "52059b5c",
   "metadata": {},
   "outputs": [],
   "source": [
    "# Churn risk category\n",
    "def categorize_churn_risk(score):\n",
    "    if score <= 0.3: return 'low_risk'\n",
    "    elif score <= 0.7: return 'medium_risk'\n",
    "    else: return 'high_risk'\n",
    "\n",
    "customer_agg['churn_risk_category'] = customer_agg['churn_risk_score'].apply(categorize_churn_risk)"
   ]
  },
  {
   "cell_type": "code",
   "execution_count": 86,
   "id": "1b88e055",
   "metadata": {},
   "outputs": [],
   "source": [
    "# Early warning indicators\n",
    "customer_agg['showing_decline'] = (\n",
    "    (customer_agg['purchase_trend'] == -1) & \n",
    "    (customer_agg['recency_days'] > 30)\n",
    ").astype(int)\n",
    "\n",
    "customer_agg['at_risk'] = (\n",
    "    (customer_agg['churn_risk_score'] > 0.5) & \n",
    "    (customer_agg['is_churned'] == 0)  # Not yet churned but risky\n",
    ").astype(int)"
   ]
  },
  {
   "cell_type": "code",
   "execution_count": 87,
   "id": "fc7e67e9",
   "metadata": {},
   "outputs": [
    {
     "name": "stdout",
     "output_type": "stream",
     "text": [
      "Churn rate: 28.3%\n",
      "At risk (not churned but high risk): 23.3%\n",
      "\n",
      "Churn risk distribution:\n",
      "churn_risk_category\n",
      "high_risk      2835639\n",
      "low_risk       2127273\n",
      "medium_risk    2006949\n",
      "Name: count, dtype: int64\n",
      "\n",
      "Customers showing decline: 10.2%\n"
     ]
    }
   ],
   "source": [
    "print(f\"Churn rate: {customer_agg['is_churned'].mean():.1%}\")\n",
    "print(f\"At risk (not churned but high risk): {customer_agg['at_risk'].mean():.1%}\")\n",
    "print(\"\\nChurn risk distribution:\")\n",
    "print(customer_agg['churn_risk_category'].value_counts())\n",
    "print(f\"\\nCustomers showing decline: {customer_agg['showing_decline'].mean():.1%}\")"
   ]
  },
  {
   "cell_type": "markdown",
   "id": "79d7ef6a",
   "metadata": {},
   "source": [
    "These enable proactive retention before customers actually churn\n",
    "\n",
    "- is_churned: Target variable for churn prediction models\n",
    "- churn_risk_score: Continuous measure allows probability-based interventions\n",
    "- at_risk: Identifies customers needing immediate attention"
   ]
  },
  {
   "cell_type": "markdown",
   "id": "2392bb0d",
   "metadata": {},
   "source": [
    "# Customer Segmentation Labels"
   ]
  },
  {
   "cell_type": "markdown",
   "id": "57efd976",
   "metadata": {},
   "source": [
    "Create business-friendly customer segments based on multiple factors. These segments are actionable for marketing teams."
   ]
  },
  {
   "cell_type": "code",
   "execution_count": 88,
   "id": "c9932065",
   "metadata": {},
   "outputs": [],
   "source": [
    "# Binary flags for segmentation\n",
    "customer_agg['is_one_time_buyer'] = (customer_agg['total_orders'] == 1).astype(int)\n",
    "customer_agg['is_frequent_buyer'] = (customer_agg['total_orders'] >= 10).astype(int)\n",
    "customer_agg['is_high_value'] = (\n",
    "    customer_agg['total_revenue'] >= customer_agg['total_revenue'].quantile(0.75)\n",
    ").astype(int)\n",
    "customer_agg['is_discount_dependent'] = (customer_agg['no_discount_purchase_pct'] < 30).astype(int)\n",
    "customer_agg['is_active'] = (customer_agg['recency_days'] <= 30).astype(int)"
   ]
  },
  {
   "cell_type": "code",
   "execution_count": 89,
   "id": "11365026",
   "metadata": {},
   "outputs": [],
   "source": [
    "# Create named segments\n",
    "def assign_customer_segment(row):\n",
    "    if row['is_churned']:\n",
    "        return 'Lost'\n",
    "    elif row['is_one_time_buyer'] and row['recency_days'] < 30:\n",
    "        return 'New'\n",
    "    elif row['is_one_time_buyer']:\n",
    "        return 'One-Time'\n",
    "    elif row['is_high_value'] and row['is_frequent_buyer'] and row['is_active']:\n",
    "        return 'Champions'\n",
    "    elif row['is_high_value'] and row['is_active']:\n",
    "        return 'Big Spenders'\n",
    "    elif row['is_frequent_buyer'] and row['is_active']:\n",
    "        return 'Loyal'\n",
    "    elif row['at_risk'] and row['is_high_value']:\n",
    "        return 'At Risk - High Value'\n",
    "    elif row['at_risk']:\n",
    "        return 'At Risk'\n",
    "    elif row['is_active']:\n",
    "        return 'Promising'\n",
    "    else:\n",
    "        return 'Hibernating'"
   ]
  },
  {
   "cell_type": "code",
   "execution_count": 90,
   "id": "b8a91d3d",
   "metadata": {},
   "outputs": [],
   "source": [
    "customer_agg['customer_segment'] = customer_agg.apply(assign_customer_segment, axis=1)"
   ]
  },
  {
   "cell_type": "code",
   "execution_count": 91,
   "id": "6a3c1609",
   "metadata": {},
   "outputs": [
    {
     "name": "stdout",
     "output_type": "stream",
     "text": [
      "Segment distribution:\n",
      "customer_segment\n",
      "Lost                    1974391\n",
      "Promising               1219161\n",
      "New                     1037040\n",
      "One-Time                 766776\n",
      "Big Spenders             742161\n",
      "At Risk                  629535\n",
      "Champions                329781\n",
      "At Risk - High Value     264648\n",
      "Loyal                      6368\n",
      "Name: count, dtype: int64\n",
      "\n",
      "One-time buyers: 44.5%\n",
      "High-value customers: 25.0%\n",
      "Discount dependent: 9.5%\n"
     ]
    }
   ],
   "source": [
    "print(\"Segment distribution:\")\n",
    "print(customer_agg['customer_segment'].value_counts())\n",
    "print(f\"\\nOne-time buyers: {customer_agg['is_one_time_buyer'].mean():.1%}\")\n",
    "print(f\"High-value customers: {customer_agg['is_high_value'].mean():.1%}\")\n",
    "print(f\"Discount dependent: {customer_agg['is_discount_dependent'].mean():.1%}\")"
   ]
  },
  {
   "cell_type": "markdown",
   "id": "b7090ca0",
   "metadata": {},
   "source": [
    "Each segment needs different marketing strategies and business treatment\n",
    "\n",
    "- customer_segment: Actionable labels for marketing campaigns\n",
    "- is_one_time_buyer: 38% of customers - need activation strategies\n",
    "- is_high_value: Top 25% by revenue - prioritize for retention"
   ]
  },
  {
   "cell_type": "markdown",
   "id": "a1a3c655",
   "metadata": {},
   "source": [
    "# Feature Summary and Save"
   ]
  },
  {
   "cell_type": "markdown",
   "id": "ae691f09",
   "metadata": {},
   "source": [
    "Summarize all features created, check data quality, and save the final dataset for modeling."
   ]
  },
  {
   "cell_type": "code",
   "execution_count": 92,
   "id": "19f0e4bf",
   "metadata": {},
   "outputs": [
    {
     "name": "stdout",
     "output_type": "stream",
     "text": [
      "Features created by category:\n",
      "Basic aggregations: 24 features\n",
      "Temporal features: 15 features\n",
      "Product preferences: 18 features\n",
      "Financial metrics: 12 features\n",
      "Behavioral patterns: 15 features\n",
      "Advanced scores: 10 features\n",
      "Segmentation flags: 12 features\n",
      "TOTAL: 107 features\n"
     ]
    }
   ],
   "source": [
    "# Feature count by category\n",
    "print(\"Features created by category:\")\n",
    "print(f\"Basic aggregations: 24 features\")\n",
    "print(f\"Temporal features: 15 features\")\n",
    "print(f\"Product preferences: 18 features\")\n",
    "print(f\"Financial metrics: 12 features\")\n",
    "print(f\"Behavioral patterns: 15 features\")\n",
    "print(f\"Advanced scores: 10 features\")\n",
    "print(f\"Segmentation flags: 12 features\")\n",
    "print(f\"TOTAL: {len(customer_agg.columns)} features\")"
   ]
  },
  {
   "cell_type": "code",
   "execution_count": 93,
   "id": "8246a825",
   "metadata": {},
   "outputs": [
    {
     "name": "stdout",
     "output_type": "stream",
     "text": [
      "Final dataset statistics:\n",
      "Shape: (6969861, 107)\n",
      "Memory usage: 9878.68 MB\n",
      "Null values: 0\n",
      "Duplicate customers: 4983287\n"
     ]
    }
   ],
   "source": [
    "# Data quality check\n",
    "print(f\"Final dataset statistics:\")\n",
    "print(f\"Shape: {customer_agg.shape}\")\n",
    "print(f\"Memory usage: {customer_agg.memory_usage(deep=True).sum() / 1024**2:.2f} MB\")\n",
    "print(f\"Null values: {customer_agg.isnull().sum().sum()}\")\n",
    "print(f\"Duplicate customers: {customer_agg['customer_id'].duplicated().sum()}\")"
   ]
  },
  {
   "cell_type": "code",
   "execution_count": 94,
   "id": "ea272eb6",
   "metadata": {},
   "outputs": [
    {
     "name": "stdout",
     "output_type": "stream",
     "text": [
      "Business metrics:\n",
      "Total customers: 6,969,861\n",
      "Churn rate: 28.3%\n",
      "One-time buyers: 44.5%\n",
      "Average CLV: $114,457.30\n",
      "High-risk customers: 40.7%\n"
     ]
    }
   ],
   "source": [
    "# Key business metrics\n",
    "print(f\"Business metrics:\")\n",
    "print(f\"Total customers: {len(customer_agg):,}\")\n",
    "print(f\"Churn rate: {customer_agg['is_churned'].mean():.1%}\")\n",
    "print(f\"One-time buyers: {customer_agg['is_one_time_buyer'].mean():.1%}\")\n",
    "print(f\"Average CLV: ${customer_agg['clv_predicted'].mean():,.2f}\")\n",
    "print(f\"High-risk customers: {(customer_agg['churn_risk_category'] == 'high_risk').mean():.1%}\")\n"
   ]
  },
  {
   "cell_type": "code",
   "execution_count": 95,
   "id": "b0b4c79a",
   "metadata": {},
   "outputs": [
    {
     "name": "stdout",
     "output_type": "stream",
     "text": [
      "Saving enhanced customer features...\n"
     ]
    }
   ],
   "source": [
    "print(\"Saving enhanced customer features...\")\n",
    "customer_agg.to_csv('customer_features_complete.csv', index=False)"
   ]
  },
  {
   "cell_type": "code",
   "execution_count": 96,
   "id": "6ae7c9fe",
   "metadata": {},
   "outputs": [
    {
     "name": "stdout",
     "output_type": "stream",
     "text": [
      "    customer_id  total_orders  unique_products  total_quantity  \\\n",
      "0           189            32               93             208   \n",
      "1           224             1                6               7   \n",
      "2           234            91              230             686   \n",
      "3           249            13               36              83   \n",
      "4           249            13               36              83   \n",
      "5           249            13               36              83   \n",
      "6           249            13               36              83   \n",
      "7           257            10               20              27   \n",
      "8           259             3                3               3   \n",
      "9           259             3                3               3   \n",
      "10          259             3                3               3   \n",
      "11          259             3                3               3   \n",
      "12          259             3                3               3   \n",
      "13          259             3                3               3   \n",
      "14          259             3                3               3   \n",
      "15          259             3                3               3   \n",
      "16          259             3                3               3   \n",
      "17          263            43              101             154   \n",
      "18          272             6               15              18   \n",
      "19          272             6               15              18   \n",
      "\n",
      "    avg_quantity_per_order  quantity_std  total_revenue  \\\n",
      "0                 1.405405      1.068013        22627.0   \n",
      "1                 1.166667      0.408248          331.0   \n",
      "2                 1.366534      0.666504        51331.0   \n",
      "3                 2.024390      1.440274         4696.0   \n",
      "4                 2.024390      1.440274         4696.0   \n",
      "5                 2.024390      1.440274         4696.0   \n",
      "6                 2.024390      1.440274         4696.0   \n",
      "7                 1.227273      0.528413         1790.0   \n",
      "8                 1.000000      0.000000          596.0   \n",
      "9                 1.000000      0.000000          596.0   \n",
      "10                1.000000      0.000000          596.0   \n",
      "11                1.000000      0.000000          596.0   \n",
      "12                1.000000      0.000000          596.0   \n",
      "13                1.000000      0.000000          596.0   \n",
      "14                1.000000      0.000000          596.0   \n",
      "15                1.000000      0.000000          596.0   \n",
      "16                1.000000      0.000000          596.0   \n",
      "17                1.339130      0.711891        29071.0   \n",
      "18                1.058824      0.242536         1456.0   \n",
      "19                1.058824      0.242536         1456.0   \n",
      "\n",
      "    avg_revenue_per_order  revenue_std  min_order_revenue  max_order_revenue  \\\n",
      "0              152.885135   192.528380               11.0             1199.0   \n",
      "1               55.166667    34.067091               20.0              114.0   \n",
      "2              102.252988   165.356331                0.0             2798.0   \n",
      "3              114.536585    61.732932               23.0              250.0   \n",
      "4              114.536585    61.732932               23.0              250.0   \n",
      "5              114.536585    61.732932               23.0              250.0   \n",
      "6              114.536585    61.732932               23.0              250.0   \n",
      "7               81.363636    80.671318                6.0              311.0   \n",
      "8              198.666667   139.471622               94.0              357.0   \n",
      "9              198.666667   139.471622               94.0              357.0   \n",
      "10             198.666667   139.471622               94.0              357.0   \n",
      "11             198.666667   139.471622               94.0              357.0   \n",
      "12             198.666667   139.471622               94.0              357.0   \n",
      "13             198.666667   139.471622               94.0              357.0   \n",
      "14             198.666667   139.471622               94.0              357.0   \n",
      "15             198.666667   139.471622               94.0              357.0   \n",
      "16             198.666667   139.471622               94.0              357.0   \n",
      "17             252.791304   364.035676               12.0             2400.0   \n",
      "18              85.647059    77.805801               23.0              310.0   \n",
      "19              85.647059    77.805801               23.0              310.0   \n",
      "\n",
      "    total_profit  avg_profit_per_order  total_discount  avg_discount  \\\n",
      "0    3640.455109             24.597670             0.0           0.0   \n",
      "1      33.787914              5.631319             0.0           0.0   \n",
      "2    8374.360627             16.681993             0.0           0.0   \n",
      "3     714.904327             17.436691             0.0           0.0   \n",
      "4     714.904327             17.436691             0.0           0.0   \n",
      "5     714.904327             17.436691             0.0           0.0   \n",
      "6     714.904327             17.436691             0.0           0.0   \n",
      "7     301.340987             13.697318             0.0           0.0   \n",
      "8     188.059910             62.686637             0.0           0.0   \n",
      "9     188.059910             62.686637             0.0           0.0   \n",
      "10    188.059910             62.686637             0.0           0.0   \n",
      "11    188.059910             62.686637             0.0           0.0   \n",
      "12    188.059910             62.686637             0.0           0.0   \n",
      "13    188.059910             62.686637             0.0           0.0   \n",
      "14    188.059910             62.686637             0.0           0.0   \n",
      "15    188.059910             62.686637             0.0           0.0   \n",
      "16    188.059910             62.686637             0.0           0.0   \n",
      "17   3967.333640             34.498553             0.0           0.0   \n",
      "18    128.651566              7.567739             0.0           0.0   \n",
      "19    128.651566              7.567739             0.0           0.0   \n",
      "\n",
      "    max_discount_used  avg_price_point   price_std  min_price_paid  \\\n",
      "0                 0.0       119.148649  150.574924            11.0   \n",
      "1                 0.0        48.833333   32.932760            20.0   \n",
      "2                 0.0        81.980080  151.457377             0.0   \n",
      "3                 0.0        73.024390   51.369976            19.0   \n",
      "4                 0.0        73.024390   51.369976            19.0   \n",
      "5                 0.0        73.024390   51.369976            19.0   \n",
      "6                 0.0        73.024390   51.369976            19.0   \n",
      "7                 0.0        70.500000   78.951914             6.0   \n",
      "8                 0.0       198.666667  139.471622            94.0   \n",
      "9                 0.0       198.666667  139.471622            94.0   \n",
      "10                0.0       198.666667  139.471622            94.0   \n",
      "11                0.0       198.666667  139.471622            94.0   \n",
      "12                0.0       198.666667  139.471622            94.0   \n",
      "13                0.0       198.666667  139.471622            94.0   \n",
      "14                0.0       198.666667  139.471622            94.0   \n",
      "15                0.0       198.666667  139.471622            94.0   \n",
      "16                0.0       198.666667  139.471622            94.0   \n",
      "17                0.0       221.486957  317.638390            10.0   \n",
      "18                0.0        76.529412   55.858211            23.0   \n",
      "19                0.0        76.529412   55.858211            23.0   \n",
      "\n",
      "    max_price_paid first_purchase last_purchase  active_days  unique_cities  \\\n",
      "0           1199.0     2022-04-04    2022-07-06           28              1   \n",
      "1            114.0     2022-06-14    2022-06-14            1              1   \n",
      "2           2798.0     2022-04-02    2022-07-10           59              1   \n",
      "3            225.0     2022-04-14    2022-06-03           10              1   \n",
      "4            225.0     2022-04-14    2022-06-03           10              1   \n",
      "5            225.0     2022-04-14    2022-06-03           10              1   \n",
      "6            225.0     2022-04-14    2022-06-03           10              1   \n",
      "7            311.0     2022-04-01    2022-05-19           10              1   \n",
      "8            357.0     2022-04-02    2022-07-04            3              1   \n",
      "9            357.0     2022-04-02    2022-07-04            3              1   \n",
      "10           357.0     2022-04-02    2022-07-04            3              1   \n",
      "11           357.0     2022-04-02    2022-07-04            3              1   \n",
      "12           357.0     2022-04-02    2022-07-04            3              1   \n",
      "13           357.0     2022-04-02    2022-07-04            3              1   \n",
      "14           357.0     2022-04-02    2022-07-04            3              1   \n",
      "15           357.0     2022-04-02    2022-07-04            3              1   \n",
      "16           357.0     2022-04-02    2022-07-04            3              1   \n",
      "17          1675.0     2022-04-02    2022-07-09           26              3   \n",
      "18           202.0     2022-04-07    2022-07-04            5              1   \n",
      "19           202.0     2022-04-07    2022-07-04            5              1   \n",
      "\n",
      "    customer_lifetime_days  recency_days  recency  frequency  monetary  \\\n",
      "0                       93             4        4         32   22627.0   \n",
      "1                        0            26       26          1     331.0   \n",
      "2                       99             0        0         91   51331.0   \n",
      "3                       50            37       37         13    4696.0   \n",
      "4                       50            37       37         13    4696.0   \n",
      "5                       50            37       37         13    4696.0   \n",
      "6                       50            37       37         13    4696.0   \n",
      "7                       48            52       52         10    1790.0   \n",
      "8                       93             6        6          3     596.0   \n",
      "9                       93             6        6          3     596.0   \n",
      "10                      93             6        6          3     596.0   \n",
      "11                      93             6        6          3     596.0   \n",
      "12                      93             6        6          3     596.0   \n",
      "13                      93             6        6          3     596.0   \n",
      "14                      93             6        6          3     596.0   \n",
      "15                      93             6        6          3     596.0   \n",
      "16                      93             6        6          3     596.0   \n",
      "17                      98             1        1         43   29071.0   \n",
      "18                      88             6        6          6    1456.0   \n",
      "19                      88             6        6          6    1456.0   \n",
      "\n",
      "    orders_last_30d  revenue_last_30d  items_last_30d  orders_last_60d  \\\n",
      "0               8.0            3264.0            42.0             14.0   \n",
      "1               1.0             331.0             7.0              1.0   \n",
      "2              17.0            8336.0           135.0             47.0   \n",
      "3               0.0               0.0             0.0              9.0   \n",
      "4               0.0               0.0             0.0              9.0   \n",
      "5               0.0               0.0             0.0              9.0   \n",
      "6               0.0               0.0             0.0              9.0   \n",
      "7               0.0               0.0             0.0              3.0   \n",
      "8               2.0             239.0             2.0              2.0   \n",
      "9               2.0             239.0             2.0              2.0   \n",
      "10              2.0             239.0             2.0              2.0   \n",
      "11              2.0             239.0             2.0              2.0   \n",
      "12              2.0             239.0             2.0              2.0   \n",
      "13              2.0             239.0             2.0              2.0   \n",
      "14              2.0             239.0             2.0              2.0   \n",
      "15              2.0             239.0             2.0              2.0   \n",
      "16              2.0             239.0             2.0              2.0   \n",
      "17              4.0            1816.0            13.0             21.0   \n",
      "18              1.0             206.0             2.0              3.0   \n",
      "19              1.0             206.0             2.0              3.0   \n",
      "\n",
      "    revenue_last_60d  items_last_60d  orders_last_90d  revenue_last_90d  \\\n",
      "0             6085.0            80.0             29.0           19666.0   \n",
      "1              331.0             7.0              1.0             331.0   \n",
      "2            22571.0           325.0             85.0           44076.0   \n",
      "3             3015.0            43.0             13.0            4696.0   \n",
      "4             3015.0            43.0             13.0            4696.0   \n",
      "5             3015.0            43.0             13.0            4696.0   \n",
      "6             3015.0            43.0             13.0            4696.0   \n",
      "7              475.0             4.0              7.0             976.0   \n",
      "8              239.0             2.0              2.0             239.0   \n",
      "9              239.0             2.0              2.0             239.0   \n",
      "10             239.0             2.0              2.0             239.0   \n",
      "11             239.0             2.0              2.0             239.0   \n",
      "12             239.0             2.0              2.0             239.0   \n",
      "13             239.0             2.0              2.0             239.0   \n",
      "14             239.0             2.0              2.0             239.0   \n",
      "15             239.0             2.0              2.0             239.0   \n",
      "16             239.0             2.0              2.0             239.0   \n",
      "17           13262.0            63.0             38.0           22367.0   \n",
      "18             925.0            13.0              5.0            1254.0   \n",
      "19             925.0            13.0              5.0            1254.0   \n",
      "\n",
      "    items_last_90d  avg_days_between_orders  std_days_between_orders  \\\n",
      "0            187.0                 3.000000                 3.483293   \n",
      "1              7.0               999.000000                 0.000000   \n",
      "2            612.0                 1.100000                 1.848473   \n",
      "3             83.0                 4.166667                 6.833518   \n",
      "4             83.0                 4.166667                 6.833518   \n",
      "5             83.0                 4.166667                 6.833518   \n",
      "6             83.0                 4.166667                 6.833518   \n",
      "7             17.0                 5.333333                 4.716991   \n",
      "8              2.0                46.500000                38.890873   \n",
      "9              2.0                46.500000                38.890873   \n",
      "10             2.0                46.500000                38.890873   \n",
      "11             2.0                46.500000                38.890873   \n",
      "12             2.0                46.500000                38.890873   \n",
      "13             2.0                46.500000                38.890873   \n",
      "14             2.0                46.500000                38.890873   \n",
      "15             2.0                46.500000                38.890873   \n",
      "16             2.0                46.500000                38.890873   \n",
      "17           131.0                 2.333333                 4.331770   \n",
      "18            17.0                17.600000                17.572706   \n",
      "19            17.0                17.600000                17.572706   \n",
      "\n",
      "    min_days_between_orders  max_days_between_orders  unique_brands  \\\n",
      "0                       0.0                     14.0             43   \n",
      "1                       0.0                      0.0              5   \n",
      "2                       0.0                     12.0             75   \n",
      "3                       0.0                     23.0             25   \n",
      "4                       0.0                     23.0             25   \n",
      "5                       0.0                     23.0             25   \n",
      "6                       0.0                     23.0             25   \n",
      "7                       1.0                     17.0             12   \n",
      "8                      19.0                     74.0              3   \n",
      "9                      19.0                     74.0              3   \n",
      "10                     19.0                     74.0              3   \n",
      "11                     19.0                     74.0              3   \n",
      "12                     19.0                     74.0              3   \n",
      "13                     19.0                     74.0              3   \n",
      "14                     19.0                     74.0              3   \n",
      "15                     19.0                     74.0              3   \n",
      "16                     19.0                     74.0              3   \n",
      "17                      0.0                     19.0             59   \n",
      "18                      0.0                     44.0              9   \n",
      "19                      0.0                     44.0              9   \n",
      "\n",
      "    unique_l0_categories  unique_l1_categories  unique_l2_categories  \\\n",
      "0                     13                    36                    39   \n",
      "1                      3                     4                     5   \n",
      "2                     17                    62                    83   \n",
      "3                      8                    18                    23   \n",
      "4                      8                    18                    23   \n",
      "5                      8                    18                    23   \n",
      "6                      8                    18                    23   \n",
      "7                      8                    14                    15   \n",
      "8                      3                     3                     3   \n",
      "9                      3                     3                     3   \n",
      "10                     3                     3                     3   \n",
      "11                     3                     3                     3   \n",
      "12                     3                     3                     3   \n",
      "13                     3                     3                     3   \n",
      "14                     3                     3                     3   \n",
      "15                     3                     3                     3   \n",
      "16                     3                     3                     3   \n",
      "17                    18                    47                    52   \n",
      "18                     6                    10                    11   \n",
      "19                     6                    10                    11   \n",
      "\n",
      "   top_brand_1         top_brand_2      top_brand_3  \\\n",
      "0      Unknown           Polka Pop         epigamia   \n",
      "1        Lay's  Cadbury Dairy Milk          Unknown   \n",
      "2      Unknown                 GMC     Mother Dairy   \n",
      "3   Haldiram's           Nestle a+            Catch   \n",
      "4   Haldiram's           Nestle a+            Catch   \n",
      "5   Haldiram's           Nestle a+            Catch   \n",
      "6   Haldiram's           Nestle a+            Catch   \n",
      "7      Unknown            Rajdhani        24 Mantra   \n",
      "8        Maggi             Unknown          Unknown   \n",
      "9        Maggi             Unknown          Unknown   \n",
      "10       Maggi             Unknown          Unknown   \n",
      "11       Maggi             Unknown          Unknown   \n",
      "12       Maggi             Unknown          Unknown   \n",
      "13       Maggi             Unknown          Unknown   \n",
      "14       Maggi             Unknown          Unknown   \n",
      "15       Maggi             Unknown          Unknown   \n",
      "16       Maggi             Unknown          Unknown   \n",
      "17     Unknown             Bisleri            Pilot   \n",
      "18     Unknown                Amul  Country Delight   \n",
      "19     Unknown                Amul  Country Delight   \n",
      "\n",
      "                top_category_1    top_category_2              top_category_3  \\\n",
      "0             Fresh Vegetables           Exotics                Fresh Fruits   \n",
      "1               Chips & Crisps   Chocolate Packs                     Unknown   \n",
      "2             Fresh Vegetables      Fresh Fruits               Curd & Yogurt   \n",
      "3               Chips & Crisps       Soft Drinks               Curd & Yogurt   \n",
      "4               Chips & Crisps       Soft Drinks               Curd & Yogurt   \n",
      "5               Chips & Crisps       Soft Drinks               Curd & Yogurt   \n",
      "6               Chips & Crisps       Soft Drinks               Curd & Yogurt   \n",
      "7                      Exotics     Curd & Yogurt  Baking Ingredients & Mixes   \n",
      "8   Baking Ingredients & Mixes           Unknown                     Unknown   \n",
      "9   Baking Ingredients & Mixes           Unknown                     Unknown   \n",
      "10  Baking Ingredients & Mixes           Unknown                     Unknown   \n",
      "11  Baking Ingredients & Mixes           Unknown                     Unknown   \n",
      "12  Baking Ingredients & Mixes           Unknown                     Unknown   \n",
      "13  Baking Ingredients & Mixes           Unknown                     Unknown   \n",
      "14  Baking Ingredients & Mixes           Unknown                     Unknown   \n",
      "15  Baking Ingredients & Mixes           Unknown                     Unknown   \n",
      "16  Baking Ingredients & Mixes           Unknown                     Unknown   \n",
      "17           Water & Ice Cubes  Stationery Needs                      Coffee   \n",
      "18               Curd & Yogurt      Fresh Fruits               Butter & More   \n",
      "19               Curd & Yogurt      Fresh Fruits               Butter & More   \n",
      "\n",
      "    top_product_1  top_product_2  top_product_3  brand_loyalty_score  \\\n",
      "0        483961.0       470636.0       477795.0            41.216216   \n",
      "1         17678.0          542.0           -1.0            33.333333   \n",
      "2        445675.0          192.0       333785.0            44.422311   \n",
      "3         10554.0          316.0       127891.0             9.756098   \n",
      "4         10554.0          316.0       127891.0             9.756098   \n",
      "5         10554.0          316.0       127891.0             9.756098   \n",
      "6         10554.0          316.0       127891.0             9.756098   \n",
      "7         82218.0       160704.0           31.0            40.909091   \n",
      "8        179771.0           -1.0           -1.0            33.333333   \n",
      "9        179771.0           -1.0           -1.0            33.333333   \n",
      "10       179771.0           -1.0           -1.0            33.333333   \n",
      "11       179771.0           -1.0           -1.0            33.333333   \n",
      "12       179771.0           -1.0           -1.0            33.333333   \n",
      "13       179771.0           -1.0           -1.0            33.333333   \n",
      "14       179771.0           -1.0           -1.0            33.333333   \n",
      "15       179771.0           -1.0           -1.0            33.333333   \n",
      "16       179771.0           -1.0           -1.0            33.333333   \n",
      "17        21699.0          377.0          318.0            15.652174   \n",
      "18          192.0          159.0           -1.0            29.411765   \n",
      "19          192.0          159.0           -1.0            29.411765   \n",
      "\n",
      "    category_focus_score  product_repeat_rate  profit_margin  discount_ratio  \\\n",
      "0              13.513514            29.032258      16.088987             0.0   \n",
      "1              50.000000             0.000000      10.207829             0.0   \n",
      "2              30.677291            36.521739      16.314431             0.0   \n",
      "3              14.634146            13.888889      15.223687             0.0   \n",
      "4              14.634146            13.888889      15.223687             0.0   \n",
      "5              14.634146            13.888889      15.223687             0.0   \n",
      "6              14.634146            13.888889      15.223687             0.0   \n",
      "7              22.727273            10.000000      16.834692             0.0   \n",
      "8              33.333333             0.000000      31.553676             0.0   \n",
      "9              33.333333             0.000000      31.553676             0.0   \n",
      "10             33.333333             0.000000      31.553676             0.0   \n",
      "11             33.333333             0.000000      31.553676             0.0   \n",
      "12             33.333333             0.000000      31.553676             0.0   \n",
      "13             33.333333             0.000000      31.553676             0.0   \n",
      "14             33.333333             0.000000      31.553676             0.0   \n",
      "15             33.333333             0.000000      31.553676             0.0   \n",
      "16             33.333333             0.000000      31.553676             0.0   \n",
      "17             15.652174             7.920792      13.647049             0.0   \n",
      "18             17.647059            13.333333       8.835959             0.0   \n",
      "19             17.647059            13.333333       8.835959             0.0   \n",
      "\n",
      "   price_segment  no_discount_purchase_pct  small_discount_pct  \\\n",
      "0      mid_range                     100.0                 0.0   \n",
      "1         budget                     100.0                 0.0   \n",
      "2      mid_range                     100.0                 0.0   \n",
      "3      mid_range                     100.0                 0.0   \n",
      "4      mid_range                     100.0                 0.0   \n",
      "5      mid_range                     100.0                 0.0   \n",
      "6      mid_range                     100.0                 0.0   \n",
      "7      mid_range                     100.0                 0.0   \n",
      "8        premium                     100.0                 0.0   \n",
      "9        premium                     100.0                 0.0   \n",
      "10       premium                     100.0                 0.0   \n",
      "11       premium                     100.0                 0.0   \n",
      "12       premium                     100.0                 0.0   \n",
      "13       premium                     100.0                 0.0   \n",
      "14       premium                     100.0                 0.0   \n",
      "15       premium                     100.0                 0.0   \n",
      "16       premium                     100.0                 0.0   \n",
      "17       premium                     100.0                 0.0   \n",
      "18     mid_range                     100.0                 0.0   \n",
      "19     mid_range                     100.0                 0.0   \n",
      "\n",
      "    medium_discount_pct  high_discount_pct  avg_discount_needed  \\\n",
      "0                   0.0                0.0                  0.0   \n",
      "1                   0.0                0.0                  0.0   \n",
      "2                   0.0                0.0                  0.0   \n",
      "3                   0.0                0.0                  0.0   \n",
      "4                   0.0                0.0                  0.0   \n",
      "5                   0.0                0.0                  0.0   \n",
      "6                   0.0                0.0                  0.0   \n",
      "7                   0.0                0.0                  0.0   \n",
      "8                   0.0                0.0                  0.0   \n",
      "9                   0.0                0.0                  0.0   \n",
      "10                  0.0                0.0                  0.0   \n",
      "11                  0.0                0.0                  0.0   \n",
      "12                  0.0                0.0                  0.0   \n",
      "13                  0.0                0.0                  0.0   \n",
      "14                  0.0                0.0                  0.0   \n",
      "15                  0.0                0.0                  0.0   \n",
      "16                  0.0                0.0                  0.0   \n",
      "17                  0.0                0.0                  0.0   \n",
      "18                  0.0                0.0                  0.0   \n",
      "19                  0.0                0.0                  0.0   \n",
      "\n",
      "    discount_sensitivity  avg_categories_per_order  max_categories_per_order  \\\n",
      "0                    0.0                  3.343750                         9   \n",
      "1                    0.0                  4.000000                         4   \n",
      "2                    0.0                  3.637363                        16   \n",
      "3                    0.0                  2.307692                         6   \n",
      "4                    0.0                  2.307692                         6   \n",
      "5                    0.0                  2.307692                         6   \n",
      "6                    0.0                  2.307692                         6   \n",
      "7                    0.0                  1.700000                         4   \n",
      "8                    0.0                  1.000000                         1   \n",
      "9                    0.0                  1.000000                         1   \n",
      "10                   0.0                  1.000000                         1   \n",
      "11                   0.0                  1.000000                         1   \n",
      "12                   0.0                  1.000000                         1   \n",
      "13                   0.0                  1.000000                         1   \n",
      "14                   0.0                  1.000000                         1   \n",
      "15                   0.0                  1.000000                         1   \n",
      "16                   0.0                  1.000000                         1   \n",
      "17                   0.0                  2.023256                         8   \n",
      "18                   0.0                  2.500000                         5   \n",
      "19                   0.0                  2.500000                         5   \n",
      "\n",
      "    avg_brands_per_order  max_brands_per_order  avg_products_per_order  \\\n",
      "0               3.000000                     9                4.625000   \n",
      "1               5.000000                     5                6.000000   \n",
      "2               3.032967                    11                5.516484   \n",
      "3               2.692308                     7                3.153846   \n",
      "4               2.692308                     7                3.153846   \n",
      "5               2.692308                     7                3.153846   \n",
      "6               2.692308                     7                3.153846   \n",
      "7               1.500000                     3                2.200000   \n",
      "8               1.000000                     1                1.000000   \n",
      "9               1.000000                     1                1.000000   \n",
      "10              1.000000                     1                1.000000   \n",
      "11              1.000000                     1                1.000000   \n",
      "12              1.000000                     1                1.000000   \n",
      "13              1.000000                     1                1.000000   \n",
      "14              1.000000                     1                1.000000   \n",
      "15              1.000000                     1                1.000000   \n",
      "16              1.000000                     1                1.000000   \n",
      "17              2.139535                     5                2.674419   \n",
      "18              2.333333                     4                2.833333   \n",
      "19              2.333333                     4                2.833333   \n",
      "\n",
      "    max_products_per_order  avg_items_per_order  max_items_per_order  \\\n",
      "0                       15             6.500000                   16   \n",
      "1                        6             7.000000                    7   \n",
      "2                       22             7.538462                   29   \n",
      "3                       10             6.384615                   21   \n",
      "4                       10             6.384615                   21   \n",
      "5                       10             6.384615                   21   \n",
      "6                       10             6.384615                   21   \n",
      "7                        5             2.700000                    6   \n",
      "8                        1             1.000000                    1   \n",
      "9                        1             1.000000                    1   \n",
      "10                       1             1.000000                    1   \n",
      "11                       1             1.000000                    1   \n",
      "12                       1             1.000000                    1   \n",
      "13                       1             1.000000                    1   \n",
      "14                       1             1.000000                    1   \n",
      "15                       1             1.000000                    1   \n",
      "16                       1             1.000000                    1   \n",
      "17                      11             3.581395                   14   \n",
      "18                       7             3.000000                    8   \n",
      "19                       7             3.000000                    8   \n",
      "\n",
      "    single_category_orders_pct  multi_category_orders_pct  bulk_orders_pct  \\\n",
      "0                    25.000000                  75.000000         9.375000   \n",
      "1                     0.000000                 100.000000         0.000000   \n",
      "2                    17.582418                  82.417582        21.978022   \n",
      "3                    46.153846                  53.846154        23.076923   \n",
      "4                    46.153846                  53.846154        23.076923   \n",
      "5                    46.153846                  53.846154        23.076923   \n",
      "6                    46.153846                  53.846154        23.076923   \n",
      "7                    60.000000                  40.000000         0.000000   \n",
      "8                   100.000000                   0.000000         0.000000   \n",
      "9                   100.000000                   0.000000         0.000000   \n",
      "10                  100.000000                   0.000000         0.000000   \n",
      "11                  100.000000                   0.000000         0.000000   \n",
      "12                  100.000000                   0.000000         0.000000   \n",
      "13                  100.000000                   0.000000         0.000000   \n",
      "14                  100.000000                   0.000000         0.000000   \n",
      "15                  100.000000                   0.000000         0.000000   \n",
      "16                  100.000000                   0.000000         0.000000   \n",
      "17                   44.186047                  55.813953         4.651163   \n",
      "18                   33.333333                  66.666667         0.000000   \n",
      "19                   33.333333                  66.666667         0.000000   \n",
      "\n",
      "   top_price_range_1 top_price_range_2 top_price_range_3  price_variance  \\\n",
      "0             50-100              0-50           100-250    22672.807685   \n",
      "1               0-50           100-250            50-100     1084.566667   \n",
      "2               0-50            50-100           100-250    22939.336928   \n",
      "3               0-50           100-250            50-100     2638.874390   \n",
      "4               0-50           100-250            50-100     2638.874390   \n",
      "5               0-50           100-250            50-100     2638.874390   \n",
      "6               0-50           100-250            50-100     2638.874390   \n",
      "7               0-50            50-100           250-500     6233.404762   \n",
      "8             50-100              0-50           Unknown    19452.333333   \n",
      "9             50-100              0-50           Unknown    19452.333333   \n",
      "10            50-100              0-50           Unknown    19452.333333   \n",
      "11            50-100              0-50           Unknown    19452.333333   \n",
      "12            50-100              0-50           Unknown    19452.333333   \n",
      "13            50-100              0-50           Unknown    19452.333333   \n",
      "14            50-100              0-50           Unknown    19452.333333   \n",
      "15            50-100              0-50           Unknown    19452.333333   \n",
      "16            50-100              0-50           Unknown    19452.333333   \n",
      "17            50-100              0-50           100-250   100894.146758   \n",
      "18              0-50            50-100           100-250     3120.139706   \n",
      "19              0-50            50-100           100-250     3120.139706   \n",
      "\n",
      "    price_cv  purchase_velocity  purchase_trend  revenue_trend  recency_score  \\\n",
      "0   1.263757           0.340426              -1             -1              5   \n",
      "1   0.674391           1.000000               0              1              3   \n",
      "2   1.847490           0.910000              -1             -1              5   \n",
      "3   0.703463           0.254902               1             -1              3   \n",
      "4   0.703463           0.254902               1             -1              3   \n",
      "5   0.703463           0.254902               1             -1              3   \n",
      "6   0.703463           0.254902               1             -1              3   \n",
      "7   1.119885           0.204082              -1              1              2   \n",
      "8   0.702038           0.031915              -1             -1              4   \n",
      "9   0.702038           0.031915              -1             -1              4   \n",
      "10  0.702038           0.031915              -1             -1              4   \n",
      "11  0.702038           0.031915              -1             -1              4   \n",
      "12  0.702038           0.031915              -1             -1              4   \n",
      "13  0.702038           0.031915              -1             -1              4   \n",
      "14  0.702038           0.031915              -1             -1              4   \n",
      "15  0.702038           0.031915              -1             -1              4   \n",
      "16  0.702038           0.031915              -1             -1              4   \n",
      "17  1.434118           0.434343              -1             -1              5   \n",
      "18  0.729892           0.067416              -1             -1              4   \n",
      "19  0.729892           0.067416              -1             -1              4   \n",
      "\n",
      "    frequency_score  monetary_score  rfm_score rfm_segment_code  \\\n",
      "0                 5               5         15              555   \n",
      "1                 1               2          6              312   \n",
      "2                 5               5         15              555   \n",
      "3                 5               5         13              355   \n",
      "4                 5               5         13              355   \n",
      "5                 5               5         13              355   \n",
      "6                 5               5         13              355   \n",
      "7                 5               5         12              255   \n",
      "8                 4               3         11              443   \n",
      "9                 4               3         11              443   \n",
      "10                4               3         11              443   \n",
      "11                4               3         11              443   \n",
      "12                4               3         11              443   \n",
      "13                4               3         11              443   \n",
      "14                4               3         11              443   \n",
      "15                4               3         11              443   \n",
      "16                4               3         11              443   \n",
      "17                5               5         15              555   \n",
      "18                5               4         13              454   \n",
      "19                5               4         13              454   \n",
      "\n",
      "    clv_predicted  product_diversity_score  bargain_hunter_score  \\\n",
      "0    87860.159574                 2.906250                     0   \n",
      "1   120815.000000                 6.000000                    30   \n",
      "2   187358.150000                 2.527473                    30   \n",
      "3    33608.627451                 2.769231                    30   \n",
      "4    33608.627451                 2.769231                    30   \n",
      "5    33608.627451                 2.769231                    30   \n",
      "6    33608.627451                 2.769231                    30   \n",
      "7    13333.673469                 2.000000                    30   \n",
      "8     2314.255319                 1.000000                     0   \n",
      "9     2314.255319                 1.000000                     0   \n",
      "10    2314.255319                 1.000000                     0   \n",
      "11    2314.255319                 1.000000                     0   \n",
      "12    2314.255319                 1.000000                     0   \n",
      "13    2314.255319                 1.000000                     0   \n",
      "14    2314.255319                 1.000000                     0   \n",
      "15    2314.255319                 1.000000                     0   \n",
      "16    2314.255319                 1.000000                     0   \n",
      "17  107180.959596                 2.348837                     0   \n",
      "18    5971.235955                 2.500000                    30   \n",
      "19    5971.235955                 2.500000                    30   \n",
      "\n",
      "    premium_buyer_score  engagement_score  is_churned  churn_risk_score  \\\n",
      "0                    30                70           0          0.066667   \n",
      "1                    30                50           0          0.433333   \n",
      "2                    30                70           0          0.000000   \n",
      "3                    30                70           0          0.616667   \n",
      "4                    30                70           0          0.616667   \n",
      "5                    30                70           0          0.616667   \n",
      "6                    30                70           0          0.616667   \n",
      "7                    30                20           0          0.866667   \n",
      "8                    70                30           0          0.100000   \n",
      "9                    70                30           0          0.100000   \n",
      "10                   70                30           0          0.100000   \n",
      "11                   70                30           0          0.100000   \n",
      "12                   70                30           0          0.100000   \n",
      "13                   70                30           0          0.100000   \n",
      "14                   70                30           0          0.100000   \n",
      "15                   70                30           0          0.100000   \n",
      "16                   70                30           0          0.100000   \n",
      "17                   70                70           0          0.016667   \n",
      "18                   30                70           0          0.100000   \n",
      "19                   30                70           0          0.100000   \n",
      "\n",
      "   churn_risk_category  showing_decline  at_risk  is_one_time_buyer  \\\n",
      "0             low_risk                0        0                  0   \n",
      "1          medium_risk                0        0                  1   \n",
      "2             low_risk                0        0                  0   \n",
      "3          medium_risk                0        1                  0   \n",
      "4          medium_risk                0        1                  0   \n",
      "5          medium_risk                0        1                  0   \n",
      "6          medium_risk                0        1                  0   \n",
      "7            high_risk                1        1                  0   \n",
      "8             low_risk                0        0                  0   \n",
      "9             low_risk                0        0                  0   \n",
      "10            low_risk                0        0                  0   \n",
      "11            low_risk                0        0                  0   \n",
      "12            low_risk                0        0                  0   \n",
      "13            low_risk                0        0                  0   \n",
      "14            low_risk                0        0                  0   \n",
      "15            low_risk                0        0                  0   \n",
      "16            low_risk                0        0                  0   \n",
      "17            low_risk                0        0                  0   \n",
      "18            low_risk                0        0                  0   \n",
      "19            low_risk                0        0                  0   \n",
      "\n",
      "    is_frequent_buyer  is_high_value  is_discount_dependent  is_active  \\\n",
      "0                   1              1                      0          1   \n",
      "1                   0              0                      0          1   \n",
      "2                   1              1                      0          1   \n",
      "3                   1              1                      0          0   \n",
      "4                   1              1                      0          0   \n",
      "5                   1              1                      0          0   \n",
      "6                   1              1                      0          0   \n",
      "7                   1              1                      0          0   \n",
      "8                   0              0                      0          1   \n",
      "9                   0              0                      0          1   \n",
      "10                  0              0                      0          1   \n",
      "11                  0              0                      0          1   \n",
      "12                  0              0                      0          1   \n",
      "13                  0              0                      0          1   \n",
      "14                  0              0                      0          1   \n",
      "15                  0              0                      0          1   \n",
      "16                  0              0                      0          1   \n",
      "17                  1              1                      0          1   \n",
      "18                  0              1                      0          1   \n",
      "19                  0              1                      0          1   \n",
      "\n",
      "        customer_segment  \n",
      "0              Champions  \n",
      "1                    New  \n",
      "2              Champions  \n",
      "3   At Risk - High Value  \n",
      "4   At Risk - High Value  \n",
      "5   At Risk - High Value  \n",
      "6   At Risk - High Value  \n",
      "7   At Risk - High Value  \n",
      "8              Promising  \n",
      "9              Promising  \n",
      "10             Promising  \n",
      "11             Promising  \n",
      "12             Promising  \n",
      "13             Promising  \n",
      "14             Promising  \n",
      "15             Promising  \n",
      "16             Promising  \n",
      "17             Champions  \n",
      "18          Big Spenders  \n",
      "19          Big Spenders  \n"
     ]
    }
   ],
   "source": [
    "pd.set_option('display.max_columns', None)\n",
    "print(customer_agg.head(20))"
   ]
  }
 ],
 "metadata": {
  "kernelspec": {
   "display_name": "base",
   "language": "python",
   "name": "python3"
  },
  "language_info": {
   "codemirror_mode": {
    "name": "ipython",
    "version": 3
   },
   "file_extension": ".py",
   "mimetype": "text/x-python",
   "name": "python",
   "nbconvert_exporter": "python",
   "pygments_lexer": "ipython3",
   "version": "3.12.9"
  }
 },
 "nbformat": 4,
 "nbformat_minor": 5
}
